{
 "cells": [
  {
   "cell_type": "markdown",
   "metadata": {},
   "source": [
    "# Item 27: Use Comprehensions Instead of map and filter"
   ]
  },
  {
   "cell_type": "code",
   "execution_count": 61,
   "metadata": {},
   "outputs": [
    {
     "name": "stdout",
     "output_type": "stream",
     "text": [
      "[1, 4, 9, 16, 25, 36, 49, 64, 81, 100]\n",
      "[1, 4, 9, 16, 25, 36, 49, 64, 81, 100]\n"
     ]
    }
   ],
   "source": [
    "a = [1, 2, 3, 4, 5, 6, 7, 8, 9, 10]\n",
    "\n",
    "squares = [x**2 for x in a]  #list comprehension\n",
    "print(squares)\n",
    "\n",
    "alt = map(lambda x: x**2, a) #map\n",
    "print(list(alt))"
   ]
  },
  {
   "cell_type": "code",
   "execution_count": 62,
   "metadata": {},
   "outputs": [
    {
     "name": "stdout",
     "output_type": "stream",
     "text": [
      "[4, 16, 36, 64, 100]\n",
      "[4, 16, 36, 64, 100]\n"
     ]
    }
   ],
   "source": [
    "even_squares = [x**2 for x in a if x % 2 == 0]\n",
    "print(even_squares)\n",
    "\n",
    "even_alt = map(lambda x: x**2, filter(lambda x: x % 2 == 0, a)) #filter까지 써야함\n",
    "print(list(even_alt))"
   ]
  },
  {
   "cell_type": "code",
   "execution_count": 63,
   "metadata": {},
   "outputs": [
    {
     "name": "stdout",
     "output_type": "stream",
     "text": [
      "{2: 4, 4: 16, 6: 36, 8: 64, 10: 100}\n",
      "{64, 100, 4, 36, 16}\n"
     ]
    }
   ],
   "source": [
    "even_squares_dict = {x: x**2 for x in a if x % 2 == 0} #딕셔너리도 만들 수 있음\n",
    "print(even_squares_dict)\n",
    "\n",
    "even_squares_set = {x**2 for x in a if x % 2 == 0} #set도 만들 수 있음\n",
    "print(even_squares_set)"
   ]
  },
  {
   "cell_type": "markdown",
   "metadata": {},
   "source": [
    "# Item 28: Avoid more than Two Control Subexpressions in Comprehensions"
   ]
  },
  {
   "cell_type": "code",
   "execution_count": 64,
   "metadata": {},
   "outputs": [
    {
     "name": "stdout",
     "output_type": "stream",
     "text": [
      "[6, 8, 10]\n"
     ]
    }
   ],
   "source": [
    "a = [1, 2, 3, 4, 5, 6, 7, 8, 9, 10]\n",
    "b = [x for x in a if x > 4 if x % 2 == 0] #이런식으로 쓰지 말것\n",
    "print(b)"
   ]
  },
  {
   "cell_type": "markdown",
   "metadata": {},
   "source": [
    "# Item 29: Avoid Repeated Work in Comprehensions by Using Assignment Expressions"
   ]
  },
  {
   "cell_type": "code",
   "execution_count": 65,
   "metadata": {},
   "outputs": [
    {
     "name": "stdout",
     "output_type": "stream",
     "text": [
      "{'screws': 4, 'wingnuts': 1}\n",
      "{'screws': 4, 'wingnuts': 1}\n"
     ]
    }
   ],
   "source": [
    "stock = {\n",
    "    'nails' : 125, \n",
    "    'screws' : 35,\n",
    "    'wingnuts' : 8,\n",
    "    'washers' : 24,\n",
    "}\n",
    "\n",
    "order = ['screws', 'wingnuts', 'clips']\n",
    "\n",
    "def get_batches(count, size):\n",
    "    return count // size\n",
    "\n",
    "found = {name: get_batches(stock.get(name, 0), 8) \n",
    "         for name in order \n",
    "         if get_batches(stock.get(name, 0), 8)} #같은 부분이 반복됨\n",
    "print(found)\n",
    "\n",
    "found = {name: batches for name in order\n",
    "         if (batches := get_batches(stock.get(name, 0),8))} #Assignment Expression\n",
    "print(found)"
   ]
  },
  {
   "cell_type": "markdown",
   "metadata": {},
   "source": [
    "# Item 30: Consider Generation Instead of Returning Lists"
   ]
  },
  {
   "cell_type": "code",
   "execution_count": 66,
   "metadata": {},
   "outputs": [
    {
     "name": "stdout",
     "output_type": "stream",
     "text": [
      "0\n",
      "5\n"
     ]
    }
   ],
   "source": [
    "def index_words_iter(text): #generator function \n",
    "    if text:\n",
    "        yield 0\n",
    "    for index, letter in enumerate(text):\n",
    "        if letter == ' ':\n",
    "            yield index + 1\n",
    "\n",
    "address = 'Four score and seven years ago...'\n",
    "\n",
    "it = index_words_iter(address) #generator\n",
    "print(next(it))\n",
    "print(next(it))"
   ]
  },
  {
   "cell_type": "code",
   "execution_count": 67,
   "metadata": {},
   "outputs": [
    {
     "name": "stdout",
     "output_type": "stream",
     "text": [
      "[0, 5, 11, 15, 21, 27]\n"
     ]
    }
   ],
   "source": [
    "result = list(index_words_iter(address))\n",
    "print(result)"
   ]
  },
  {
   "cell_type": "markdown",
   "metadata": {},
   "source": [
    "# Item 31: Be Defensive When Iterating Over Arguments"
   ]
  },
  {
   "cell_type": "markdown",
   "metadata": {},
   "source": [
    "# Item 32: Conider Generator Expressions for Large List Comprehensions"
   ]
  },
  {
   "cell_type": "code",
   "execution_count": 68,
   "metadata": {},
   "outputs": [
    {
     "name": "stdout",
     "output_type": "stream",
     "text": [
      "<generator object <genexpr> at 0x0000020299BA8890>\n"
     ]
    }
   ],
   "source": [
    "it = (len(x) for x in open('my_file.txt','rt', encoding='UTF8')) #generator expression () -> memory 문제 해결\n",
    "print(it)"
   ]
  },
  {
   "cell_type": "code",
   "execution_count": 69,
   "metadata": {},
   "outputs": [
    {
     "name": "stdout",
     "output_type": "stream",
     "text": [
      "34\n",
      "40\n",
      "36\n"
     ]
    }
   ],
   "source": [
    "print(next(it))\n",
    "print(next(it))\n",
    "print(next(it))"
   ]
  },
  {
   "cell_type": "markdown",
   "metadata": {},
   "source": [
    "# Item 33: Compose Multiple Generators with 'yield from'"
   ]
  },
  {
   "cell_type": "code",
   "execution_count": 70,
   "metadata": {},
   "outputs": [],
   "source": [
    "def move(period, speed):\n",
    "    for _ in range(period):\n",
    "        yield speed\n",
    "\n",
    "def pause(delay):\n",
    "    for _ in range(delay):\n",
    "        yield 0\n"
   ]
  },
  {
   "cell_type": "code",
   "execution_count": 71,
   "metadata": {},
   "outputs": [],
   "source": [
    "def animate_composed():#generator function\n",
    "    yield from move(4, 5.0) #generator1\n",
    "    yield from pause(3)     #generator2\n",
    "    yield from move(2, 3.0) #generator3 \n",
    "\n",
    "def render(delta):\n",
    "    print(f'Delta: {delta:.1f}')\n",
    "    \n",
    "def run(func):\n",
    "    for delta in func():\n",
    "        render(delta)"
   ]
  },
  {
   "cell_type": "code",
   "execution_count": 72,
   "metadata": {},
   "outputs": [
    {
     "name": "stdout",
     "output_type": "stream",
     "text": [
      "Delta: 5.0\n",
      "Delta: 5.0\n",
      "Delta: 5.0\n",
      "Delta: 5.0\n",
      "Delta: 0.0\n",
      "Delta: 0.0\n",
      "Delta: 0.0\n",
      "Delta: 3.0\n",
      "Delta: 3.0\n"
     ]
    }
   ],
   "source": [
    "run(animate_composed)"
   ]
  },
  {
   "cell_type": "markdown",
   "metadata": {},
   "source": [
    "# Item 34: Avoid Injecting Data into Generators with send"
   ]
  },
  {
   "cell_type": "code",
   "execution_count": 73,
   "metadata": {},
   "outputs": [
    {
     "name": "stdout",
     "output_type": "stream",
     "text": [
      "1\n",
      "receivied = hello!\n"
     ]
    }
   ],
   "source": [
    "def my_generator():\n",
    "    received = yield 1\n",
    "    print(f'receivied = {received}')\n",
    "\n",
    "it = my_generator()\n",
    "output = it.send(None) #무조건 처음에는 None 객체\n",
    "print(output)\n",
    "try:\n",
    "    it.send('hello!') #이런식으로 send쓰지 마라\n",
    "except StopIteration:\n",
    "    pass"
   ]
  },
  {
   "cell_type": "markdown",
   "metadata": {},
   "source": [
    "# Item 35: Avoid Causing State Transitions in Generators with throw"
   ]
  },
  {
   "cell_type": "code",
   "execution_count": 74,
   "metadata": {},
   "outputs": [
    {
     "name": "stdout",
     "output_type": "stream",
     "text": [
      "1\n",
      "2\n"
     ]
    }
   ],
   "source": [
    "class MyError(Exception):\n",
    "    pass\n",
    "\n",
    "def my_generator():\n",
    "    yield 1\n",
    "    yield 2\n",
    "    yield 3\n",
    "\n",
    "it = my_generator()\n",
    "print(next(it))\n",
    "print(next(it))\n",
    "#print(it.throw(MyError('test error'))) #이렇게 사용하지 말것,"
   ]
  },
  {
   "cell_type": "markdown",
   "metadata": {},
   "source": [
    "# Item 36: Consider itertools for Working with Iterators and Generators"
   ]
  },
  {
   "cell_type": "code",
   "execution_count": 75,
   "metadata": {},
   "outputs": [
    {
     "name": "stdout",
     "output_type": "stream",
     "text": [
      "[1, 2, 3, 4, 5, 6]\n",
      "['hello', 'hello', 'hello']\n",
      "[1, 2, 1, 2, 1, 2, 1, 2, 1, 2]\n",
      "['first', 'second']\n",
      "['first', 'second']\n",
      "['first', 'second']\n",
      "[('one', 1), ('two', 2), ('three', 'Nope')]\n"
     ]
    }
   ],
   "source": [
    "import itertools\n",
    "\n",
    "#Linking Iterators Together\n",
    "\n",
    "#chain\n",
    "it = itertools.chain([1,2,3], [4,5,6])\n",
    "print(list(it))\n",
    "\n",
    "#repeat\n",
    "it = itertools.repeat('hello', 3)\n",
    "print(list(it))\n",
    "\n",
    "#cycle\n",
    "it = itertools.cycle([1,2])\n",
    "result = [next(it) for _ in range (10)]\n",
    "print(result)\n",
    "\n",
    "#tee\n",
    "it1, it2, it3 = itertools.tee(['first', 'second'], 3)\n",
    "print(list(it1))\n",
    "print(list(it2))\n",
    "print(list(it3))\n",
    "\n",
    "#zip_longest\n",
    "keys = ['one', 'two', 'three']\n",
    "values = [1, 2]\n",
    "it = itertools.zip_longest(keys, values, fillvalue='Nope')\n",
    "print(list(it))"
   ]
  },
  {
   "cell_type": "code",
   "execution_count": 76,
   "metadata": {},
   "outputs": [
    {
     "name": "stdout",
     "output_type": "stream",
     "text": [
      "[3, 5, 7]\n",
      "[1, 2, 3, 4, 5, 6]\n",
      "[7, 8, 9, 10]\n",
      "[1, 3, 5, 7, 9]\n"
     ]
    }
   ],
   "source": [
    "# Filtering Items from an Iterator\n",
    "\n",
    "#islice\n",
    "values = [1, 2, 3, 4, 5, 6, 7, 8, 9, 10]\n",
    "middle_odds = itertools.islice(values, 2, 8, 2)\n",
    "print(list(middle_odds))\n",
    "\n",
    "#takewhile\n",
    "values = [1, 2, 3, 4, 5, 6, 7, 8, 9, 10]\n",
    "less_than_seven = lambda x: x < 7\n",
    "it = itertools.takewhile(less_than_seven, values)\n",
    "print(list(it))\n",
    "\n",
    "#dropwhile\n",
    "values = [1, 2, 3, 4, 5, 6, 7, 8, 9, 10]\n",
    "less_than_seven = lambda x: x < 7\n",
    "it = itertools.dropwhile(less_than_seven, values)\n",
    "print(list(it))\n",
    "\n",
    "#filterfalse\n",
    "values = [1, 2, 3, 4, 5, 6, 7, 8, 9, 10]\n",
    "evens = lambda x: x % 2 == 0\n",
    "filter_false_result = itertools.filterfalse(evens, values)\n",
    "print(list(filter_false_result))"
   ]
  },
  {
   "cell_type": "code",
   "execution_count": 77,
   "metadata": {},
   "outputs": [
    {
     "name": "stdout",
     "output_type": "stream",
     "text": [
      "[1, 3, 6, 10, 15, 21, 28, 36, 45, 55]\n",
      "[(1, 1), (1, 2), (2, 1), (2, 2)]\n",
      "[(1, 'a'), (1, 'b'), (2, 'a'), (2, 'b')]\n",
      "[(1, 2), (1, 3), (1, 4), (2, 1), (2, 3), (2, 4), (3, 1), (3, 2), (3, 4), (4, 1), (4, 2), (4, 3)]\n",
      "[(1, 2), (1, 3), (1, 4), (2, 3), (2, 4), (3, 4)]\n",
      "[(1, 1), (1, 2), (1, 3), (1, 4), (2, 2), (2, 3), (2, 4), (3, 3), (3, 4), (4, 4)]\n"
     ]
    }
   ],
   "source": [
    "#Producing Combinations of Items from Iterators\n",
    "\n",
    "#accumulate\n",
    "values = [1, 2, 3, 4, 5, 6, 7, 8, 9, 10]\n",
    "sum_reduce = itertools.accumulate(values)\n",
    "print(list(sum_reduce))\n",
    "\n",
    "#product\n",
    "single = itertools.product([1, 2], repeat=2)\n",
    "print(list(single))\n",
    "multiple = itertools.product([1, 2], ['a', 'b'])\n",
    "print(list(multiple))\n",
    "\n",
    "#permutations(순열)\n",
    "it = itertools.permutations([1, 2, 3, 4], 2)\n",
    "print(list(it))\n",
    "\n",
    "#combinations(조합)\n",
    "it = itertools.combinations([1, 2, 3, 4], 2)\n",
    "print(list(it))\n",
    "\n",
    "#combinations_with_replacement(중복 허용한 조합)\n",
    "it = itertools.combinations_with_replacement([1, 2, 3, 4], 2)\n",
    "print(list(it))"
   ]
  }
 ],
 "metadata": {
  "interpreter": {
   "hash": "3c46e020bd7951a01c610897444e7b62e6d637ce0a919f4ddb4c600ef01938ca"
  },
  "kernelspec": {
   "display_name": "Python 3.8.12 64-bit ('codingstudy': conda)",
   "language": "python",
   "name": "python3"
  },
  "language_info": {
   "codemirror_mode": {
    "name": "ipython",
    "version": 3
   },
   "file_extension": ".py",
   "mimetype": "text/x-python",
   "name": "python",
   "nbconvert_exporter": "python",
   "pygments_lexer": "ipython3",
   "version": "3.8.12"
  },
  "orig_nbformat": 4
 },
 "nbformat": 4,
 "nbformat_minor": 2
}
