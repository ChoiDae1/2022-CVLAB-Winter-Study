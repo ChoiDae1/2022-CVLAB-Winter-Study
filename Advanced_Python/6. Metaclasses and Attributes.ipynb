{
 "cells": [
  {
   "cell_type": "markdown",
   "metadata": {},
   "source": [
    "## Item 44: Use Plain Attributes Instead of Setter and Getter Methods"
   ]
  },
  {
   "cell_type": "code",
   "execution_count": 1,
   "metadata": {},
   "outputs": [
    {
     "name": "stdout",
     "output_type": "stream",
     "text": [
      "1000.0\n"
     ]
    }
   ],
   "source": [
    "class Resistor:\n",
    "    def __init__(self, ohms):\n",
    "        self.ohms = ohms\n",
    "        self.voltage = 0\n",
    "        self.current = 0\n",
    "\n",
    "r1 = Resistor(50e3)\n",
    "r1.ohms = 10e2\n",
    "print(r1.ohms)"
   ]
  },
  {
   "cell_type": "code",
   "execution_count": 2,
   "metadata": {},
   "outputs": [
    {
     "name": "stdout",
     "output_type": "stream",
     "text": [
      "Before: 0.00 amps\n",
      "After: 0.01 amps\n"
     ]
    }
   ],
   "source": [
    "#@property를 이용한 getterrhk setter 사용\n",
    "\n",
    "class VoltageResistance(Resistor):\n",
    "    def __init__(self, ohms):\n",
    "        super().__init__(ohms)\n",
    "        self._voltage = 0\n",
    "    \n",
    "    @property\n",
    "    def voltage(self):\n",
    "        return self._voltage\n",
    "    \n",
    "    @voltage.setter\n",
    "    def voltage(self, voltage):\n",
    "        self._voltage = voltage\n",
    "        self.current = self._voltage / self.ohms\n",
    "\n",
    "r2 = VoltageResistance(1e3)\n",
    "print(f'Before: {r2.current:.2f} amps')\n",
    "r2.voltage = 10 #setter 작동\n",
    "print(f'After: {r2.current:.2f} amps')"
   ]
  },
  {
   "cell_type": "markdown",
   "metadata": {},
   "source": [
    "## Item 45: Consider @property Instead of Reinfactoring Attributes\n",
    "1. Use @property to give existing instance attributes new functionality.\n",
    "2. Make incremental progress toward better data models by using @property"
   ]
  },
  {
   "cell_type": "markdown",
   "metadata": {},
   "source": [
    "## Item 46: Use Descriptors for Reusable @property Methods\n",
    "\n",
    " Reuse the behavior and validation of @property methods by defining your own descriptor classes\n"
   ]
  },
  {
   "cell_type": "code",
   "execution_count": 3,
   "metadata": {},
   "outputs": [
    {
     "name": "stdout",
     "output_type": "stream",
     "text": [
      "Writing 82\n",
      "Science 99\n",
      "problem....\n",
      "Writing 75\n",
      "Writing 75\n"
     ]
    }
   ],
   "source": [
    "class Grade: #descriptor class\n",
    "    def __init__(self):\n",
    "        self._value = 0\n",
    "    \n",
    "    def __get__(self, instance, instance_type): # self는 Grade class의 인스턴스를 뜻함. instance는 Exam class의 인스턴스를 뜻함.\n",
    "        return self._value\n",
    "    \n",
    "    def __set__(self, instance, value):\n",
    "        if not (0 <= value <= 100):\n",
    "            raise ValueError(\n",
    "                'Grade must be between 0 and 100')\n",
    "        self._value = value\n",
    "\n",
    "class Exam:\n",
    "    math_grade = Grade()\n",
    "    writing_grade = Grade()\n",
    "    science_grade = Grade()\n",
    "\n",
    "first_exam = Exam()\n",
    "first_exam.writing_grade = 82\n",
    "first_exam.science_grade = 99\n",
    "print('Writing', first_exam.writing_grade)\n",
    "print('Science', first_exam.science_grade)\n",
    "\n",
    "print('problem....')\n",
    "second_exam = Exam()\n",
    "second_exam.writing_grade = 75\n",
    "print('Writing', first_exam.writing_grade) #문제발생, 인스턴스가 다른데 사용하는 디스크립터 객체가 같기 때문\n",
    "print('Writing', second_exam.writing_grade)"
   ]
  },
  {
   "cell_type": "code",
   "execution_count": 4,
   "metadata": {},
   "outputs": [
    {
     "name": "stdout",
     "output_type": "stream",
     "text": [
      "problem....\n",
      "Writing 75\n",
      "Writing 75\n"
     ]
    }
   ],
   "source": [
    "class Grade: #descriptor class\n",
    "    def __init__(self):\n",
    "        self._values = {}\n",
    "    \n",
    "    def __get__(self, instance, instance_type):\n",
    "        if instance is None:\n",
    "            return self\n",
    "        return self._values.get(instance, 0)\n",
    "    \n",
    "    def __set__(self, instance, value):\n",
    "        if not (0 <= value <= 100):\n",
    "            raise ValueError(\n",
    "                'Grade must be between 0 and 100')\n",
    "        self._values[instance] = value\n",
    "\n",
    "class Exam: #owner class\n",
    "    math_grade = Grade()\n",
    "    writing_grade = Grade()\n",
    "    science_grade = Grade()\n",
    "\n",
    "print('problem....')\n",
    "second_exam = Exam()\n",
    "second_exam.writing_grade = 75\n",
    "print('Writing', first_exam.writing_grade) #문제해결\n",
    "print('Writing', second_exam.writing_grade)"
   ]
  },
  {
   "cell_type": "markdown",
   "metadata": {},
   "source": [
    "## Item 47: Use __getattr__, __gatattribute__, and __setattr__ for Lazy Attributes"
   ]
  },
  {
   "cell_type": "code",
   "execution_count": 5,
   "metadata": {},
   "outputs": [
    {
     "name": "stdout",
     "output_type": "stream",
     "text": [
      "Before: {'exists': 5}\n",
      "foo:    Value for foo\n",
      "After:  {'exists': 5, 'foo': 'Value for foo'}\n"
     ]
    }
   ],
   "source": [
    "class LazyRecord:\n",
    "    def __init__(self):\n",
    "        self.exists = 5\n",
    "    \n",
    "    def __getattr__(self, name): #name에 해당하는 attribute가 없는데 호출될 경우 작동\n",
    "        value = f'Value for {name}'\n",
    "        setattr(self, name, value)\n",
    "        return value\n",
    "\n",
    "data = LazyRecord()\n",
    "print('Before:', data.__dict__)\n",
    "print('foo:   ', data.foo)\n",
    "print('After: ', data.__dict__)"
   ]
  },
  {
   "cell_type": "code",
   "execution_count": 6,
   "metadata": {},
   "outputs": [
    {
     "name": "stdout",
     "output_type": "stream",
     "text": [
      "found 'exists', returning 5\n",
      "Before: 5\n",
      "Setting 'foo' to 'Value for foo'\n",
      "foo:    Value for foo\n",
      "found 'foo', returning 'Value for foo'\n",
      "After:  Value for foo\n"
     ]
    }
   ],
   "source": [
    "class ValidatingRecord:\n",
    "    def __init__(self):\n",
    "        self.exists = 5\n",
    "    \n",
    "    def __getattribute__(self, name): #name에 해당하는 attribute가 호출될 경우 작동\n",
    "        try:\n",
    "            value = super().__getattribute__(name)\n",
    "            print(f'found {name!r}, returning {value!r}')\n",
    "            return value\n",
    "        except AttributeError:\n",
    "            value = f'Value for {name}'\n",
    "            print(f'Setting {name!r} to {value!r}')\n",
    "            setattr(self, name, value)\n",
    "            return value\n",
    "\n",
    "    \n",
    "data = ValidatingRecord()\n",
    "print('Before:', data.exists)\n",
    "print('foo:   ', data.foo)\n",
    "print('After: ', data.foo)"
   ]
  },
  {
   "cell_type": "markdown",
   "metadata": {},
   "source": [
    "## Item 48: Validate Subclasses with __init_subclass___"
   ]
  },
  {
   "cell_type": "code",
   "execution_count": 7,
   "metadata": {},
   "outputs": [
    {
     "name": "stdout",
     "output_type": "stream",
     "text": [
      "Running <class '__main__.Meta'>.__new__ for MyClass\n",
      "Bases: ()\n",
      "{'__module__': '__main__', '__qualname__': 'MyClass', '__init__': <function MyClass.__init__ at 0x0000010F81C05D30>, 'foo': <function MyClass.foo at 0x0000010F81C05EE0>}\n",
      "Running <class '__main__.Meta'>.__new__ for MySubclass\n",
      "Bases: (<class '__main__.MyClass'>,)\n",
      "{'__module__': '__main__', '__qualname__': 'MySubclass', 'bar': <function MySubclass.bar at 0x0000010F81C5A9D0>}\n"
     ]
    }
   ],
   "source": [
    "class Meta(type): #mataclass, type을 반드시 상속\n",
    "    def __new__(meta, name, bases, class_dict): #__new__는 class가 선언될때 작동하는 메서드임. __init__은 class의 인스턴스 선언될때 작동함\n",
    "        print(f'Running {meta}.__new__ for {name}') \n",
    "        print('Bases:', bases) #부모클레스가 무엇인지 접근\n",
    "        print(class_dict) #class의 attribute가 뭐가 있는지 접근(함수포함)\n",
    "        return type.__new__(meta, name, bases, class_dict)\n",
    "\n",
    "class MyClass(metaclass=Meta):\n",
    "    def __init__(self):\n",
    "        print('__init__')\n",
    "    \n",
    "    def foo(self):\n",
    "        pass\n",
    "\n",
    "class MySubclass(MyClass):\n",
    "    def bar(self):\n",
    "        pass"
   ]
  },
  {
   "cell_type": "code",
   "execution_count": 8,
   "metadata": {},
   "outputs": [],
   "source": [
    "class Filled:\n",
    "    color = None # Must be specified by subclasses\n",
    "\n",
    "    def __init_subclass__(cls): #classmethod\n",
    "        super().__init_subclass__()\n",
    "        if cls.color not in ('red', 'green', 'blue'):\n",
    "            raise ValueError('Fills need a valid color')\n",
    "\n",
    "class RedTriangle(Filled):\n",
    "    # color = 'pupple' -> ValueError 발생\n",
    "    color = 'red'\n",
    "    sides =3"
   ]
  },
  {
   "cell_type": "markdown",
   "metadata": {},
   "source": [
    "## Item 49: Register Class Existence with __init_subclass__"
   ]
  },
  {
   "cell_type": "code",
   "execution_count": 9,
   "metadata": {},
   "outputs": [],
   "source": [
    "import json\n",
    "\n",
    "class BetterSerializable:\n",
    "    def __init__(self, *args):\n",
    "        self.args = args\n",
    "    \n",
    "    def serialize(self):\n",
    "        return json.dumps({\n",
    "            'class' : self.__class__.__name__,\n",
    "            'args': self.args,\n",
    "        })\n",
    "    \n",
    "    def __repr__(self):\n",
    "        name = self.__class__.__name__\n",
    "        args_str = ', '.join(str(x) for x in self.args)\n",
    "        return f'{name}({args_str})'\n",
    "\n",
    "\n",
    "registry = {}\n",
    "def register_class(target_class):\n",
    "    registry[target_class.__name__] = target_class\n",
    "\n",
    "def deserialize(data):\n",
    "    params = json.loads(data)\n",
    "    name = params['class']\n",
    "    target_class = registry[name]\n",
    "    return target_class(*params['args'])"
   ]
  },
  {
   "cell_type": "code",
   "execution_count": 10,
   "metadata": {},
   "outputs": [
    {
     "name": "stdout",
     "output_type": "stream",
     "text": [
      "{'RegisteredSerializable': <class '__main__.RegisteredSerializable'>, 'Vector3d': <class '__main__.Vector3d'>}\n",
      "Before:     Vector3d(10, -7, 3)\n",
      "Serialized: {\"class\": \"Vector3d\", \"args\": [10, -7, 3]}\n",
      "After:      Vector3d(10, -7, 3)\n"
     ]
    }
   ],
   "source": [
    "class Meta(type):#meta class를 활용하여, class registration\n",
    "    def __new__(meta, name, bases, class_dict):\n",
    "        cls = type.__new__(meta, name, bases, class_dict)\n",
    "        register_class(cls)\n",
    "        return cls\n",
    "\n",
    "class RegisteredSerializable(BetterSerializable, metaclass=Meta):\n",
    "    pass\n",
    "\n",
    "class Vector3d(RegisteredSerializable):\n",
    "    def __init__(self, x, y, z):\n",
    "        super().__init__(x, y, z)\n",
    "        self.x, self.y, self.z = x, y, z\n",
    "\n",
    "print(registry)\n",
    "before = Vector3d(10, -7, 3)\n",
    "print('Before:    ', before)\n",
    "data = before.serialize()\n",
    "print('Serialized:', data)\n",
    "print('After:     ', deserialize(data))"
   ]
  },
  {
   "cell_type": "code",
   "execution_count": 11,
   "metadata": {},
   "outputs": [
    {
     "name": "stdout",
     "output_type": "stream",
     "text": [
      "{'Vector1D': <class '__main__.Vector1D'>}\n",
      "Before:     Vector1D(6)\n",
      "Serialized: {\"class\": \"Vector1D\", \"args\": [6]}\n",
      "After:      Vector1D(6)\n"
     ]
    }
   ],
   "source": [
    "registry = {}\n",
    "\n",
    "class BetterRegisteredSerializable(BetterSerializable):\n",
    "    def __init_subclass__(cls): #class registration을 위해 사용, metaclass보다 가시성이 좋음\n",
    "        super().__init_subclass__()\n",
    "        register_class(cls)\n",
    "\n",
    "class Vector1D(BetterRegisteredSerializable):\n",
    "    def __init__(self, magnitude):\n",
    "        super().__init__(magnitude)\n",
    "        self.magnitude = magnitude\n",
    "\n",
    "print(registry)\n",
    "before = Vector1D(6)\n",
    "print('Before:    ', before)\n",
    "data = before.serialize()\n",
    "print('Serialized:', data)\n",
    "print('After:     ', deserialize(data))"
   ]
  },
  {
   "cell_type": "markdown",
   "metadata": {},
   "source": [
    "## Item 50: Annotate Class Attributes with __set_name__"
   ]
  },
  {
   "cell_type": "code",
   "execution_count": 12,
   "metadata": {},
   "outputs": [
    {
     "name": "stdout",
     "output_type": "stream",
     "text": [
      "Before: '' {}\n",
      "After: 'Mersenne' {'_first_name': 'Mersenne'}\n"
     ]
    }
   ],
   "source": [
    "class Field:\n",
    "    def __init__(self):\n",
    "        self.name = None\n",
    "        self.internal_name = None\n",
    "    \n",
    "    def __set_name__(self, owner, name):#여기서 owner는 containing class를 뜻함.\n",
    "        self.name = name\n",
    "        self.internal_name = '_' + name\n",
    "    \n",
    "    def __get__(self, instance, instance_type):\n",
    "        if instance is None:\n",
    "            return self\n",
    "        return getattr(instance, self.internal_name, '')\n",
    "    \n",
    "    def __set__(self, instance, value):\n",
    "        setattr(instance, self.internal_name, value)\n",
    "\n",
    "class FixedCustomer:\n",
    "    first_name = Field() #__set_name__실행됨.\n",
    "    last_name = Field()\n",
    "    prefix = Field()\n",
    "    suffix = Field()\n",
    "\n",
    "cust = FixedCustomer()\n",
    "print(f'Before: {cust.first_name!r} {cust.__dict__}')\n",
    "cust.first_name = 'Mersenne'\n",
    "print(f'After: {cust.first_name!r} {cust.__dict__}')\n"
   ]
  },
  {
   "cell_type": "markdown",
   "metadata": {},
   "source": [
    "## Item 51: Prefer Class Decorators Over Metaclasses for Composable Class Extensions"
   ]
  },
  {
   "cell_type": "code",
   "execution_count": 13,
   "metadata": {},
   "outputs": [
    {
     "name": "stdout",
     "output_type": "stream",
     "text": [
      "<class '__main__.Myclass'>\n",
      "hello\n"
     ]
    }
   ],
   "source": [
    "#class decorator\n",
    "\n",
    "def my_class_decorator(klass):\n",
    "    klass.extra_param = 'hello'\n",
    "    return klass\n",
    "\n",
    "@my_class_decorator #my_class_decorator(Myclass)라 생각하면 됨.\n",
    "class Myclass:\n",
    "    pass\n",
    "\n",
    "print(Myclass)\n",
    "print(Myclass.extra_param)"
   ]
  },
  {
   "cell_type": "code",
   "execution_count": 14,
   "metadata": {},
   "outputs": [],
   "source": [
    "from functools import wraps\n",
    "import types\n",
    "\n",
    "def trace_func(func):\n",
    "    if hasattr(func, 'tracing'):\n",
    "        return func\n",
    "    \n",
    "    @wraps(func)\n",
    "    def wrapper(*args, **kwargs):\n",
    "        result = None\n",
    "        try:\n",
    "            result = func(*args, **kwargs)\n",
    "            return result\n",
    "        except Exception as e:\n",
    "            result = e\n",
    "            raise\n",
    "        finally:\n",
    "            print(f'{func.__name__}({args!r}, {kwargs!r}) -> '\n",
    "                  f'{result!r}')\n",
    "\n",
    "    wrapper.tracing = True\n",
    "    return wrapper\n",
    "\n",
    "trace_types = (\n",
    "    types.MethodType,\n",
    "    types.FunctionType,\n",
    "    types.BuiltinFunctionType,\n",
    "    types.BuiltinMethodType,\n",
    "    types.MethodDescriptorType,\n",
    "    types.ClassMethodDescriptorType)\n"
   ]
  },
  {
   "cell_type": "code",
   "execution_count": 15,
   "metadata": {},
   "outputs": [
    {
     "name": "stdout",
     "output_type": "stream",
     "text": [
      "__new__((<class '__main__.TraceDict'>, [('hi', 1)]), {}) -> {}\n",
      "__getitem__(({'hi': 1, 'there': 2}, 'hi'), {}) -> 1\n",
      "__getitem__(({'hi': 1, 'there': 2}, 'does not exist'), {}) -> KeyError('does not exist')\n"
     ]
    }
   ],
   "source": [
    "def trace(klass):\n",
    "    for key in dir(klass):\n",
    "        value = getattr(klass, key)\n",
    "        if isinstance(value, trace_types):\n",
    "            wrapped = trace_func(value)\n",
    "            setattr(klass, key, wrapped)\n",
    "    return klass\n",
    "\n",
    "@trace\n",
    "class TraceDict(dict):\n",
    "    pass\n",
    "\n",
    "trace_dict = TraceDict([('hi', 1)])\n",
    "trace_dict['there'] = 2\n",
    "trace_dict['hi']\n",
    "try:\n",
    "    trace_dict['does not exist']\n",
    "except KeyError:\n",
    "    pass"
   ]
  }
 ],
 "metadata": {
  "interpreter": {
   "hash": "3c46e020bd7951a01c610897444e7b62e6d637ce0a919f4ddb4c600ef01938ca"
  },
  "kernelspec": {
   "display_name": "Python 3.8.12 64-bit ('codingstudy': conda)",
   "language": "python",
   "name": "python3"
  },
  "language_info": {
   "codemirror_mode": {
    "name": "ipython",
    "version": 3
   },
   "file_extension": ".py",
   "mimetype": "text/x-python",
   "name": "python",
   "nbconvert_exporter": "python",
   "pygments_lexer": "ipython3",
   "version": "3.8.12"
  },
  "orig_nbformat": 4
 },
 "nbformat": 4,
 "nbformat_minor": 2
}
