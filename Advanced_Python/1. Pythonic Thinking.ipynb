{
 "cells": [
  {
   "cell_type": "markdown",
   "metadata": {},
   "source": [
    "## Item 1: Know Which Version of Python You're Using"
   ]
  },
  {
   "cell_type": "markdown",
   "metadata": {},
   "source": [
    "## Item 2: Follow the PEP 8 Style Guide"
   ]
  },
  {
   "cell_type": "markdown",
   "metadata": {},
   "source": [
    "## Item 3: Know the Differeces Between bytes and str\n",
    "1. bytes contains sequences of 8-bit values, and str contains sequences of Unicode code points\n",
    "2. bytes and str instances can't be used together with operators\n",
    "3. If you want to read or write binary data to/from a file, always open the file using a binary mode\n",
    "4. If you want to read or write Unicode data to/from a file, be careful about your system's default text encoding. (using encoding parameter)"
   ]
  },
  {
   "cell_type": "code",
   "execution_count": 1,
   "metadata": {},
   "outputs": [
    {
     "name": "stdout",
     "output_type": "stream",
     "text": [
      "b'hello'\n",
      "[104, 101, 108, 108, 111]\n"
     ]
    }
   ],
   "source": [
    "#bytes\n",
    "a = b'h\\x65llo'\n",
    "print(a)\n",
    "print(list(a))"
   ]
  },
  {
   "cell_type": "code",
   "execution_count": 2,
   "metadata": {},
   "outputs": [
    {
     "name": "stdout",
     "output_type": "stream",
     "text": [
      "à propos\n",
      "['a', '̀', ' ', 'p', 'r', 'o', 'p', 'o', 's']\n"
     ]
    }
   ],
   "source": [
    "#str -> Unicode\n",
    "a = 'a\\u0300 propos'\n",
    "print(a)\n",
    "print(list(a))"
   ]
  },
  {
   "cell_type": "markdown",
   "metadata": {},
   "source": [
    "## Item 4: Prefer Interpolated F-string over C-style Format strings and str.format"
   ]
  },
  {
   "cell_type": "markdown",
   "metadata": {},
   "source": [
    "## Item 5: Write Helper Functions Instead of Complex Expression"
   ]
  },
  {
   "cell_type": "markdown",
   "metadata": {},
   "source": [
    "## Item 6: Prefer Multiple Assignment Unpacking Over Indexing"
   ]
  },
  {
   "cell_type": "code",
   "execution_count": 3,
   "metadata": {},
   "outputs": [
    {
     "name": "stdout",
     "output_type": "stream",
     "text": [
      "Panut butter\n",
      "Jelly\n"
     ]
    }
   ],
   "source": [
    "item = ('Panut butter', 'Jelly')\n",
    "first, second = item #Unpacking\n",
    "print(first)\n",
    "print(second)"
   ]
  },
  {
   "cell_type": "code",
   "execution_count": 4,
   "metadata": {},
   "outputs": [
    {
     "name": "stdout",
     "output_type": "stream",
     "text": [
      "['arugula', 'bacon', 'carrots', 'pretzels']\n"
     ]
    }
   ],
   "source": [
    "def bubble_sort(a):\n",
    "    for _ in range(len(a)):\n",
    "        for i in range(1, len(a)):\n",
    "            if a[i] < a[i-1]:\n",
    "                 a[i-1], a[i] = a[i], a[i-1] #Swap\n",
    "\n",
    "names = ['pretzels', 'carrots', 'arugula', 'bacon']\n",
    "bubble_sort(names)\n",
    "print(names)"
   ]
  },
  {
   "cell_type": "markdown",
   "metadata": {},
   "source": [
    "## Item 7: Prefer enumerate Over range\n",
    "\n",
    "1. Prefer enumerate instead of looping over a range and indexing into a sequence.\n",
    "2. supply a second parameter to enermerate to specify the number from which to bigin counting(zero is the default)\n"
   ]
  },
  {
   "cell_type": "code",
   "execution_count": 5,
   "metadata": {},
   "outputs": [
    {
     "name": "stdout",
     "output_type": "stream",
     "text": [
      "1: vanilla\n",
      "2: chocolate\n",
      "3: pecan\n",
      "4: strawberry\n"
     ]
    }
   ],
   "source": [
    "flavor_list = ['vanilla', 'chocolate', 'pecan', 'strawberry']\n",
    "for i, flavor in enumerate(flavor_list,1):\n",
    "    print(f'{i}: {flavor}')\n",
    "    "
   ]
  },
  {
   "cell_type": "markdown",
   "metadata": {},
   "source": [
    "## Item 8: Use zip to Process Iterations in Parallel"
   ]
  },
  {
   "cell_type": "code",
   "execution_count": 6,
   "metadata": {},
   "outputs": [
    {
     "name": "stdout",
     "output_type": "stream",
     "text": [
      "Cecilia\n",
      "7\n"
     ]
    }
   ],
   "source": [
    "names = ['Cecilia', 'Lise', 'Marie']\n",
    "counts = [len(n) for n in names]\n",
    "max_count = 0\n",
    "for name, count in zip(names, counts):\n",
    "    if count >  max_count:\n",
    "        longest_name = name\n",
    "        max_count = count\n",
    "\n",
    "print(longest_name)\n",
    "print(max_count)"
   ]
  },
  {
   "cell_type": "code",
   "execution_count": 7,
   "metadata": {},
   "outputs": [
    {
     "name": "stdout",
     "output_type": "stream",
     "text": [
      "Cecilia: 7\n",
      "Lise: 4\n",
      "Marie: 5\n"
     ]
    }
   ],
   "source": [
    "import itertools\n",
    "\n",
    "for names, count in itertools. zip_longest(names, counts):\n",
    "    print(f'{names}: {count}')"
   ]
  },
  {
   "cell_type": "markdown",
   "metadata": {},
   "source": [
    "## Item 9: Avoid else Blocks After for and while Loops"
   ]
  },
  {
   "cell_type": "code",
   "execution_count": 8,
   "metadata": {},
   "outputs": [
    {
     "name": "stdout",
     "output_type": "stream",
     "text": [
      "While Else block!\n"
     ]
    }
   ],
   "source": [
    "while False:\n",
    "    print('Never runs')\n",
    "else:\n",
    "    print('While Else block!') #이런식으로 쓰지 마라, 반복문 위에 break statement없으면 작동함"
   ]
  },
  {
   "cell_type": "markdown",
   "metadata": {},
   "source": [
    "## Item 10: Prevent Repetition with Assignment Expressions"
   ]
  },
  {
   "cell_type": "code",
   "execution_count": 9,
   "metadata": {},
   "outputs": [
    {
     "name": "stdout",
     "output_type": "stream",
     "text": [
      "3.8.12 (default, Oct 12 2021, 03:01:40) [MSC v.1916 64 bit (AMD64)]\n"
     ]
    }
   ],
   "source": [
    "import sys\n",
    "print(sys.version)"
   ]
  }
 ],
 "metadata": {
  "interpreter": {
   "hash": "52aedc21b8d228541875c09349d5d3324f7deb29cf0da4b312430efcc37c1bb4"
  },
  "kernelspec": {
   "display_name": "Python 3.6.13 64-bit ('codingstudy': venv)",
   "language": "python",
   "name": "python3"
  },
  "language_info": {
   "codemirror_mode": {
    "name": "ipython",
    "version": 3
   },
   "file_extension": ".py",
   "mimetype": "text/x-python",
   "name": "python",
   "nbconvert_exporter": "python",
   "pygments_lexer": "ipython3",
   "version": "3.8.12"
  },
  "orig_nbformat": 4
 },
 "nbformat": 4,
 "nbformat_minor": 2
}
