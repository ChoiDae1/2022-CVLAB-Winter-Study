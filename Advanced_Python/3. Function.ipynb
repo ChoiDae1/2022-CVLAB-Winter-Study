{
 "cells": [
  {
   "cell_type": "markdown",
   "metadata": {},
   "source": [
    "Item 19: Never Unpack More Than Three Variables When Functions Return Multiple Values\n",
    "\n",
    "1. Multiple return values from a function can also be unpacked by catch-all starred expression.\n",
    "2. Unpacking into four or more variables is error prone and should be avoided; instead, return a small class or namedtuple instance."
   ]
  },
  {
   "cell_type": "markdown",
   "metadata": {},
   "source": [
    "Item 20: Prefer Raising Exceptions to Returning None"
   ]
  },
  {
   "cell_type": "code",
   "execution_count": 6,
   "metadata": {},
   "outputs": [
    {
     "name": "stdout",
     "output_type": "stream",
     "text": [
      "0.75\n"
     ]
    }
   ],
   "source": [
    "def careful_divide(a: float, b: float):\n",
    "    try:\n",
    "        return a / b\n",
    "    except ZeroDivisionError as e:\n",
    "        raise ValueError('Invalid inputs') #retutn None 쓰는 것 대신\n",
    "\n",
    "print(careful_divide(3,4))"
   ]
  },
  {
   "cell_type": "markdown",
   "metadata": {},
   "source": [
    "Item 21: Know How Closures Interact with Variable Scope "
   ]
  },
  {
   "cell_type": "code",
   "execution_count": 9,
   "metadata": {},
   "outputs": [
    {
     "name": "stdout",
     "output_type": "stream",
     "text": [
      "1\n",
      "1\n",
      "1\n",
      "1\n",
      "1\n",
      "1\n",
      "1\n",
      "1\n",
      "[2, 3, 5, 7, 1, 4, 6, 8]\n"
     ]
    }
   ],
   "source": [
    "def sort_priority(values, group):\n",
    "    def helper(x):#closure function \n",
    "        if x in group:\n",
    "            return (0, x)\n",
    "        return (1, x)\n",
    "    values.sort(key=helper)\n",
    "\n",
    "numbers = [8, 3, 1, 2, 5, 4, 7, 6]\n",
    "group = {2, 3, 5, 7}\n",
    "sort_priority(numbers, group)\n",
    "print(numbers)"
   ]
  },
  {
   "cell_type": "code",
   "execution_count": 10,
   "metadata": {},
   "outputs": [
    {
     "name": "stdout",
     "output_type": "stream",
     "text": [
      "False\n",
      "[2, 3, 5, 7, 1, 4, 6, 8]\n"
     ]
    }
   ],
   "source": [
    "def sort_priority2(values, group):\n",
    "    found = False\n",
    "    def helper(x):#closure function \n",
    "        if x in group:\n",
    "            found = True\n",
    "            return (0, x)\n",
    "        return (1, x)\n",
    "    values.sort(key=helper)\n",
    "    return found\n",
    "\n",
    "numbers = [8, 3, 1, 2, 5, 4, 7, 6]\n",
    "group = {2, 3, 5, 7}\n",
    "print(sort_priority2(numbers, group)) #False가 출력됨. -> closure can't affect enclosing scopes by assigning variables.\n",
    "print(numbers)"
   ]
  },
  {
   "cell_type": "code",
   "execution_count": 11,
   "metadata": {},
   "outputs": [
    {
     "name": "stdout",
     "output_type": "stream",
     "text": [
      "True\n",
      "[2, 3, 5, 7, 1, 4, 6, 8]\n"
     ]
    }
   ],
   "source": [
    "def sort_priority2(values, group):\n",
    "    found = False\n",
    "    def helper(x):#closure function \n",
    "        if x in group:\n",
    "            nonlocal found\n",
    "            found = True\n",
    "            return (0, x)\n",
    "        return (1, x)\n",
    "    values.sort(key=helper)\n",
    "    return found\n",
    "\n",
    "numbers = [8, 3, 1, 2, 5, 4, 7, 6]\n",
    "group = {2, 3, 5, 7}\n",
    "print(sort_priority2(numbers, group)) #True가 출력됨. -> nonlocal statement makes closure can affect enclosing scopes by assigning variables.\n",
    "print(numbers)"
   ]
  },
  {
   "cell_type": "code",
   "execution_count": 12,
   "metadata": {},
   "outputs": [
    {
     "name": "stdout",
     "output_type": "stream",
     "text": [
      "[2, 3, 5, 7, 1, 4, 6, 8]\n",
      "True\n"
     ]
    }
   ],
   "source": [
    "class Sorter:\n",
    "    def __init__(self, group):\n",
    "        self.group = group\n",
    "        self.found = False\n",
    "    \n",
    "    def __call__(self, x):\n",
    "        if x in self.group:\n",
    "            self.found = True\n",
    "            return (0, x)\n",
    "        return (1, x)\n",
    "\n",
    "numbers = [8, 3, 1, 2, 5, 4, 7, 6]\n",
    "group = {2, 3, 5, 7}\n",
    "sorter = Sorter(group)\n",
    "numbers.sort(key=sorter) #__call__ method numbers를 순회하면서 한번씩 호출\n",
    "print(numbers)\n",
    "print(sorter.found)"
   ]
  },
  {
   "cell_type": "markdown",
   "metadata": {},
   "source": [
    "Item 22: Reduce Visual Noise with Variable Positional Arguments"
   ]
  },
  {
   "cell_type": "code",
   "execution_count": 18,
   "metadata": {},
   "outputs": [
    {
     "name": "stdout",
     "output_type": "stream",
     "text": [
      "My numbers are: 1,2\n"
     ]
    }
   ],
   "source": [
    "def log(message, *values):#Variable Positional Arguments -> Tuple 형태로 받는다.\n",
    "    if not values:\n",
    "        print(message)\n",
    "    else:\n",
    "        values_str = ','.join(str(x) for x in values)\n",
    "        print(f'{message}: {values_str}')\n",
    "\n",
    "log('My numbers are', 1,2)"
   ]
  },
  {
   "cell_type": "markdown",
   "metadata": {},
   "source": [
    "Item 23: Provide Optional Behavior with Keyword Arguments"
   ]
  },
  {
   "cell_type": "code",
   "execution_count": 25,
   "metadata": {},
   "outputs": [
    {
     "name": "stdout",
     "output_type": "stream",
     "text": [
      "6\n",
      "6\n",
      "6\n",
      "6\n"
     ]
    }
   ],
   "source": [
    "def remainer(number, divisor):\n",
    "    return print(number % divisor)\n",
    "\n",
    "remainer(20, 7)\n",
    "remainer(20, divisor=7)\n",
    "remainer(number=20, divisor=7)\n",
    "remainer(divisor=7, number=20)\n",
    "#remainer(20, number=7) 오류\n",
    "#remainer(divisor=7, 20)\n",
    "#remainer(number=20, 7)"
   ]
  },
  {
   "cell_type": "code",
   "execution_count": 27,
   "metadata": {},
   "outputs": [
    {
     "name": "stdout",
     "output_type": "stream",
     "text": [
      "6\n"
     ]
    }
   ],
   "source": [
    "my_kwargs = {\n",
    "    'number': 20,\n",
    "    'divisor': 7,\n",
    "}\n",
    "remainer(**my_kwargs) #딕셔너리로 받으면, 해당하는 key값을 대응하는 keyword arguments of the function에 맵핑함."
   ]
  },
  {
   "cell_type": "code",
   "execution_count": 28,
   "metadata": {},
   "outputs": [
    {
     "name": "stdout",
     "output_type": "stream",
     "text": [
      "alpha = 1.5\n",
      "beta = 9\n",
      "gamma = 4\n"
     ]
    }
   ],
   "source": [
    "def print_parameters(**kwargs): #함수의 매개변수가 **statement를 사용하면, 딕셔너리로 전환하여 받는다.\n",
    "    for key, value in kwargs.items():\n",
    "        print(f'{key} = {value}')\n",
    "\n",
    "print_parameters(alpha=1.5, beta=9, gamma=4)\n"
   ]
  },
  {
   "cell_type": "code",
   "execution_count": 31,
   "metadata": {},
   "outputs": [
    {
     "name": "stdout",
     "output_type": "stream",
     "text": [
      "0.3333333333333333\n"
     ]
    }
   ],
   "source": [
    "def flow_rate(weight_diff, time_diff,\n",
    "                period=1, units_per_kg=1):\n",
    "    return ((weight_diff*units_per_kg) / time_diff) * period\n",
    "\n",
    "weight_diff = 0.5\n",
    "time_diff = 3\n",
    "pounds_per_hour = flow_rate(weight_diff, time_diff, units_per_kg=2)\n",
    "print(pounds_per_hour)"
   ]
  },
  {
   "cell_type": "markdown",
   "metadata": {},
   "source": [
    "Item 24: Use None and Docstrings to Specify Dynamic Default Arguments"
   ]
  },
  {
   "cell_type": "code",
   "execution_count": 33,
   "metadata": {},
   "outputs": [
    {
     "name": "stdout",
     "output_type": "stream",
     "text": [
      "2022-01-05 03:15:28.436745: Hi there!\n"
     ]
    }
   ],
   "source": [
    "from datetime import datetime\n",
    "\n",
    "def log(message, when=None):\n",
    "    if when is None:\n",
    "        when = datetime.now()\n",
    "    print(f'{when}: {message}')\n",
    "\n",
    "log('Hi there!')"
   ]
  },
  {
   "cell_type": "markdown",
   "metadata": {},
   "source": [
    "Item 25: Enforce Clarity with Keyword-Only and Positional-Only Arguments"
   ]
  },
  {
   "cell_type": "code",
   "execution_count": 44,
   "metadata": {},
   "outputs": [
    {
     "data": {
      "text/plain": [
       "0.0002"
      ]
     },
     "execution_count": 44,
     "metadata": {},
     "output_type": "execute_result"
    }
   ],
   "source": [
    "def safe_division_c(number, divisor, /, *,\n",
    "                      ignore_overflow, ignore_zero_division): # Keyword-only arguments are defined after single * symbol in the argument list. \n",
    "                                                              # Positional-only arguments are defined before a single / symbol in the argument list.\n",
    "    try:\n",
    "        return number / divisor\n",
    "    except OverflowError:\n",
    "        if ignore_overflow:\n",
    "            return 0\n",
    "        else:\n",
    "            raise\n",
    "    except ZeroDivisionError:\n",
    "        if ignore_zero_division:\n",
    "            return float('inf')\n",
    "        else:\n",
    "            raise\n",
    "\n",
    "#safe_division_c(1.0, 10**500, True, False) 오류\n",
    "#safe_division_c(number=1.0, divisor=10, ignore_overflow=False, ignore_zero_division=True) 오류\n",
    "safe_division_c(1.0, 10*500, ignore_overflow=False, ignore_zero_division=True)"
   ]
  },
  {
   "cell_type": "markdown",
   "metadata": {},
   "source": [
    "Item 26: Define Function Decorators with functools.wraps"
   ]
  },
  {
   "cell_type": "code",
   "execution_count": 45,
   "metadata": {},
   "outputs": [],
   "source": [
    "def trace(func):\n",
    "    def wrapper(*args, **kwargs):\n",
    "        result = func(*args, **kwargs)\n",
    "        print(f'{func.__name__}({args!r}, {kwargs!r}' f'-> {result!r}')\n",
    "        return result\n",
    "    return wrapper\n",
    "\n",
    "@trace #trace(fibonacci)를 의미한다\n",
    "def fibonacci(n):\n",
    "    if n in (0,1):\n",
    "        return n\n",
    "    return (fibonacci(n-2) + fibonacci(n-1))"
   ]
  },
  {
   "cell_type": "code",
   "execution_count": 46,
   "metadata": {},
   "outputs": [
    {
     "name": "stdout",
     "output_type": "stream",
     "text": [
      "fibonacci((0,), {}-> 0\n",
      "fibonacci((1,), {}-> 1\n",
      "fibonacci((2,), {}-> 1\n",
      "fibonacci((1,), {}-> 1\n",
      "fibonacci((0,), {}-> 0\n",
      "fibonacci((1,), {}-> 1\n",
      "fibonacci((2,), {}-> 1\n",
      "fibonacci((3,), {}-> 2\n",
      "fibonacci((4,), {}-> 3\n"
     ]
    },
    {
     "data": {
      "text/plain": [
       "3"
      ]
     },
     "execution_count": 46,
     "metadata": {},
     "output_type": "execute_result"
    }
   ],
   "source": [
    "fibonacci(4)"
   ]
  },
  {
   "cell_type": "code",
   "execution_count": 48,
   "metadata": {},
   "outputs": [
    {
     "name": "stdout",
     "output_type": "stream",
     "text": [
      "<function trace.<locals>.wrapper at 0x000001BBCEE7E4C0>\n",
      "Help on function wrapper in module __main__:\n",
      "\n",
      "wrapper(*args, **kwargs)\n",
      "\n"
     ]
    }
   ],
   "source": [
    "print(fibonacci) #wrapper라 출력 -> debug시 문제가 생김\n",
    "help(fibonacci)"
   ]
  },
  {
   "cell_type": "code",
   "execution_count": 49,
   "metadata": {},
   "outputs": [],
   "source": [
    "from functools import wraps\n",
    "\n",
    "def trace(func):\n",
    "    @wraps(func)#functools 사용\n",
    "    def wrapper(*args, **kwargs):\n",
    "        result = func(*args, **kwargs)\n",
    "        print(f'{func.__name__}({args!r}, {kwargs!r}' f'-> {result!r}')\n",
    "        return result\n",
    "    return wrapper\n",
    "\n",
    "@trace #trace(fibonacci)를 의미한다\n",
    "def fibonacci(n):\n",
    "    if n in (0,1):\n",
    "        return n\n",
    "    return (fibonacci(n-2) + fibonacci(n-1))"
   ]
  },
  {
   "cell_type": "code",
   "execution_count": 50,
   "metadata": {},
   "outputs": [
    {
     "name": "stdout",
     "output_type": "stream",
     "text": [
      "<function fibonacci at 0x000001BBCEE77280>\n",
      "Help on function fibonacci in module __main__:\n",
      "\n",
      "fibonacci(n)\n",
      "\n"
     ]
    }
   ],
   "source": [
    "print(fibonacci) #fibonacci라 출력 -> debug시 문제없음\n",
    "help(fibonacci)"
   ]
  }
 ],
 "metadata": {
  "interpreter": {
   "hash": "3c46e020bd7951a01c610897444e7b62e6d637ce0a919f4ddb4c600ef01938ca"
  },
  "kernelspec": {
   "display_name": "Python 3.8.12 64-bit ('codingstudy': conda)",
   "language": "python",
   "name": "python3"
  },
  "language_info": {
   "codemirror_mode": {
    "name": "ipython",
    "version": 3
   },
   "file_extension": ".py",
   "mimetype": "text/x-python",
   "name": "python",
   "nbconvert_exporter": "python",
   "pygments_lexer": "ipython3",
   "version": "3.8.12"
  },
  "orig_nbformat": 4
 },
 "nbformat": 4,
 "nbformat_minor": 2
}
