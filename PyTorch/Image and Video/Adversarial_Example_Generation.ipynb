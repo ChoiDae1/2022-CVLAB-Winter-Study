{
  "nbformat": 4,
  "nbformat_minor": 0,
  "metadata": {
    "colab": {
      "name": "Adversarial Example Generation",
      "provenance": [],
      "toc_visible": true,
      "authorship_tag": "ABX9TyOZuQI6610DuX+kldMGG4i1",
      "include_colab_link": true
    },
    "kernelspec": {
      "name": "python3",
      "display_name": "Python 3"
    },
    "language_info": {
      "name": "python"
    },
    "accelerator": "GPU",
    "widgets": {
      "application/vnd.jupyter.widget-state+json": {
        "5584d33409894720bd76bb70414b890e": {
          "model_module": "@jupyter-widgets/controls",
          "model_name": "HBoxModel",
          "model_module_version": "1.5.0",
          "state": {
            "_view_name": "HBoxView",
            "_dom_classes": [],
            "_model_name": "HBoxModel",
            "_view_module": "@jupyter-widgets/controls",
            "_model_module_version": "1.5.0",
            "_view_count": null,
            "_view_module_version": "1.5.0",
            "box_style": "",
            "layout": "IPY_MODEL_0dfe99b2a35d42b8b3aed390b720699e",
            "_model_module": "@jupyter-widgets/controls",
            "children": [
              "IPY_MODEL_99f5ee60396142758d80dbe419ee695a",
              "IPY_MODEL_027048914d3447f7a7d0796831e573bd",
              "IPY_MODEL_cf6a0c550a574813b8cb38ed6657d8ba"
            ]
          }
        },
        "0dfe99b2a35d42b8b3aed390b720699e": {
          "model_module": "@jupyter-widgets/base",
          "model_name": "LayoutModel",
          "model_module_version": "1.2.0",
          "state": {
            "_view_name": "LayoutView",
            "grid_template_rows": null,
            "right": null,
            "justify_content": null,
            "_view_module": "@jupyter-widgets/base",
            "overflow": null,
            "_model_module_version": "1.2.0",
            "_view_count": null,
            "flex_flow": null,
            "width": null,
            "min_width": null,
            "border": null,
            "align_items": null,
            "bottom": null,
            "_model_module": "@jupyter-widgets/base",
            "top": null,
            "grid_column": null,
            "overflow_y": null,
            "overflow_x": null,
            "grid_auto_flow": null,
            "grid_area": null,
            "grid_template_columns": null,
            "flex": null,
            "_model_name": "LayoutModel",
            "justify_items": null,
            "grid_row": null,
            "max_height": null,
            "align_content": null,
            "visibility": null,
            "align_self": null,
            "height": null,
            "min_height": null,
            "padding": null,
            "grid_auto_rows": null,
            "grid_gap": null,
            "max_width": null,
            "order": null,
            "_view_module_version": "1.2.0",
            "grid_template_areas": null,
            "object_position": null,
            "object_fit": null,
            "grid_auto_columns": null,
            "margin": null,
            "display": null,
            "left": null
          }
        },
        "99f5ee60396142758d80dbe419ee695a": {
          "model_module": "@jupyter-widgets/controls",
          "model_name": "HTMLModel",
          "model_module_version": "1.5.0",
          "state": {
            "_view_name": "HTMLView",
            "style": "IPY_MODEL_8116071b3cd9497e96afbea46e64ba85",
            "_dom_classes": [],
            "description": "",
            "_model_name": "HTMLModel",
            "placeholder": "​",
            "_view_module": "@jupyter-widgets/controls",
            "_model_module_version": "1.5.0",
            "value": "",
            "_view_count": null,
            "_view_module_version": "1.5.0",
            "description_tooltip": null,
            "_model_module": "@jupyter-widgets/controls",
            "layout": "IPY_MODEL_a03f17603ae142b78ba1976fa4dfe443"
          }
        },
        "027048914d3447f7a7d0796831e573bd": {
          "model_module": "@jupyter-widgets/controls",
          "model_name": "FloatProgressModel",
          "model_module_version": "1.5.0",
          "state": {
            "_view_name": "ProgressView",
            "style": "IPY_MODEL_80ddc104a9e84b10ada9fe9af07017d8",
            "_dom_classes": [],
            "description": "",
            "_model_name": "FloatProgressModel",
            "bar_style": "success",
            "max": 9912422,
            "_view_module": "@jupyter-widgets/controls",
            "_model_module_version": "1.5.0",
            "value": 9912422,
            "_view_count": null,
            "_view_module_version": "1.5.0",
            "orientation": "horizontal",
            "min": 0,
            "description_tooltip": null,
            "_model_module": "@jupyter-widgets/controls",
            "layout": "IPY_MODEL_7dac1e1c56704397b3443214398dab5c"
          }
        },
        "cf6a0c550a574813b8cb38ed6657d8ba": {
          "model_module": "@jupyter-widgets/controls",
          "model_name": "HTMLModel",
          "model_module_version": "1.5.0",
          "state": {
            "_view_name": "HTMLView",
            "style": "IPY_MODEL_ec4fe860921a4ed0bc80a11f31512b1a",
            "_dom_classes": [],
            "description": "",
            "_model_name": "HTMLModel",
            "placeholder": "​",
            "_view_module": "@jupyter-widgets/controls",
            "_model_module_version": "1.5.0",
            "value": " 9913344/? [00:00&lt;00:00, 7275463.04it/s]",
            "_view_count": null,
            "_view_module_version": "1.5.0",
            "description_tooltip": null,
            "_model_module": "@jupyter-widgets/controls",
            "layout": "IPY_MODEL_dc947e7d84594865bce38b5db2e5d470"
          }
        },
        "8116071b3cd9497e96afbea46e64ba85": {
          "model_module": "@jupyter-widgets/controls",
          "model_name": "DescriptionStyleModel",
          "model_module_version": "1.5.0",
          "state": {
            "_view_name": "StyleView",
            "_model_name": "DescriptionStyleModel",
            "description_width": "",
            "_view_module": "@jupyter-widgets/base",
            "_model_module_version": "1.5.0",
            "_view_count": null,
            "_view_module_version": "1.2.0",
            "_model_module": "@jupyter-widgets/controls"
          }
        },
        "a03f17603ae142b78ba1976fa4dfe443": {
          "model_module": "@jupyter-widgets/base",
          "model_name": "LayoutModel",
          "model_module_version": "1.2.0",
          "state": {
            "_view_name": "LayoutView",
            "grid_template_rows": null,
            "right": null,
            "justify_content": null,
            "_view_module": "@jupyter-widgets/base",
            "overflow": null,
            "_model_module_version": "1.2.0",
            "_view_count": null,
            "flex_flow": null,
            "width": null,
            "min_width": null,
            "border": null,
            "align_items": null,
            "bottom": null,
            "_model_module": "@jupyter-widgets/base",
            "top": null,
            "grid_column": null,
            "overflow_y": null,
            "overflow_x": null,
            "grid_auto_flow": null,
            "grid_area": null,
            "grid_template_columns": null,
            "flex": null,
            "_model_name": "LayoutModel",
            "justify_items": null,
            "grid_row": null,
            "max_height": null,
            "align_content": null,
            "visibility": null,
            "align_self": null,
            "height": null,
            "min_height": null,
            "padding": null,
            "grid_auto_rows": null,
            "grid_gap": null,
            "max_width": null,
            "order": null,
            "_view_module_version": "1.2.0",
            "grid_template_areas": null,
            "object_position": null,
            "object_fit": null,
            "grid_auto_columns": null,
            "margin": null,
            "display": null,
            "left": null
          }
        },
        "80ddc104a9e84b10ada9fe9af07017d8": {
          "model_module": "@jupyter-widgets/controls",
          "model_name": "ProgressStyleModel",
          "model_module_version": "1.5.0",
          "state": {
            "_view_name": "StyleView",
            "_model_name": "ProgressStyleModel",
            "description_width": "",
            "_view_module": "@jupyter-widgets/base",
            "_model_module_version": "1.5.0",
            "_view_count": null,
            "_view_module_version": "1.2.0",
            "bar_color": null,
            "_model_module": "@jupyter-widgets/controls"
          }
        },
        "7dac1e1c56704397b3443214398dab5c": {
          "model_module": "@jupyter-widgets/base",
          "model_name": "LayoutModel",
          "model_module_version": "1.2.0",
          "state": {
            "_view_name": "LayoutView",
            "grid_template_rows": null,
            "right": null,
            "justify_content": null,
            "_view_module": "@jupyter-widgets/base",
            "overflow": null,
            "_model_module_version": "1.2.0",
            "_view_count": null,
            "flex_flow": null,
            "width": null,
            "min_width": null,
            "border": null,
            "align_items": null,
            "bottom": null,
            "_model_module": "@jupyter-widgets/base",
            "top": null,
            "grid_column": null,
            "overflow_y": null,
            "overflow_x": null,
            "grid_auto_flow": null,
            "grid_area": null,
            "grid_template_columns": null,
            "flex": null,
            "_model_name": "LayoutModel",
            "justify_items": null,
            "grid_row": null,
            "max_height": null,
            "align_content": null,
            "visibility": null,
            "align_self": null,
            "height": null,
            "min_height": null,
            "padding": null,
            "grid_auto_rows": null,
            "grid_gap": null,
            "max_width": null,
            "order": null,
            "_view_module_version": "1.2.0",
            "grid_template_areas": null,
            "object_position": null,
            "object_fit": null,
            "grid_auto_columns": null,
            "margin": null,
            "display": null,
            "left": null
          }
        },
        "ec4fe860921a4ed0bc80a11f31512b1a": {
          "model_module": "@jupyter-widgets/controls",
          "model_name": "DescriptionStyleModel",
          "model_module_version": "1.5.0",
          "state": {
            "_view_name": "StyleView",
            "_model_name": "DescriptionStyleModel",
            "description_width": "",
            "_view_module": "@jupyter-widgets/base",
            "_model_module_version": "1.5.0",
            "_view_count": null,
            "_view_module_version": "1.2.0",
            "_model_module": "@jupyter-widgets/controls"
          }
        },
        "dc947e7d84594865bce38b5db2e5d470": {
          "model_module": "@jupyter-widgets/base",
          "model_name": "LayoutModel",
          "model_module_version": "1.2.0",
          "state": {
            "_view_name": "LayoutView",
            "grid_template_rows": null,
            "right": null,
            "justify_content": null,
            "_view_module": "@jupyter-widgets/base",
            "overflow": null,
            "_model_module_version": "1.2.0",
            "_view_count": null,
            "flex_flow": null,
            "width": null,
            "min_width": null,
            "border": null,
            "align_items": null,
            "bottom": null,
            "_model_module": "@jupyter-widgets/base",
            "top": null,
            "grid_column": null,
            "overflow_y": null,
            "overflow_x": null,
            "grid_auto_flow": null,
            "grid_area": null,
            "grid_template_columns": null,
            "flex": null,
            "_model_name": "LayoutModel",
            "justify_items": null,
            "grid_row": null,
            "max_height": null,
            "align_content": null,
            "visibility": null,
            "align_self": null,
            "height": null,
            "min_height": null,
            "padding": null,
            "grid_auto_rows": null,
            "grid_gap": null,
            "max_width": null,
            "order": null,
            "_view_module_version": "1.2.0",
            "grid_template_areas": null,
            "object_position": null,
            "object_fit": null,
            "grid_auto_columns": null,
            "margin": null,
            "display": null,
            "left": null
          }
        },
        "b8cd662b9d78454f9b62177c72d8a13a": {
          "model_module": "@jupyter-widgets/controls",
          "model_name": "HBoxModel",
          "model_module_version": "1.5.0",
          "state": {
            "_view_name": "HBoxView",
            "_dom_classes": [],
            "_model_name": "HBoxModel",
            "_view_module": "@jupyter-widgets/controls",
            "_model_module_version": "1.5.0",
            "_view_count": null,
            "_view_module_version": "1.5.0",
            "box_style": "",
            "layout": "IPY_MODEL_b020013bcab64e49a0a015326a321ad0",
            "_model_module": "@jupyter-widgets/controls",
            "children": [
              "IPY_MODEL_0610a9e77e9c4090b1ec86e2e1e388bc",
              "IPY_MODEL_30d5568ad95144df998c7e94bb46ba9f",
              "IPY_MODEL_0e95a378fbde42408a3c743f54944a18"
            ]
          }
        },
        "b020013bcab64e49a0a015326a321ad0": {
          "model_module": "@jupyter-widgets/base",
          "model_name": "LayoutModel",
          "model_module_version": "1.2.0",
          "state": {
            "_view_name": "LayoutView",
            "grid_template_rows": null,
            "right": null,
            "justify_content": null,
            "_view_module": "@jupyter-widgets/base",
            "overflow": null,
            "_model_module_version": "1.2.0",
            "_view_count": null,
            "flex_flow": null,
            "width": null,
            "min_width": null,
            "border": null,
            "align_items": null,
            "bottom": null,
            "_model_module": "@jupyter-widgets/base",
            "top": null,
            "grid_column": null,
            "overflow_y": null,
            "overflow_x": null,
            "grid_auto_flow": null,
            "grid_area": null,
            "grid_template_columns": null,
            "flex": null,
            "_model_name": "LayoutModel",
            "justify_items": null,
            "grid_row": null,
            "max_height": null,
            "align_content": null,
            "visibility": null,
            "align_self": null,
            "height": null,
            "min_height": null,
            "padding": null,
            "grid_auto_rows": null,
            "grid_gap": null,
            "max_width": null,
            "order": null,
            "_view_module_version": "1.2.0",
            "grid_template_areas": null,
            "object_position": null,
            "object_fit": null,
            "grid_auto_columns": null,
            "margin": null,
            "display": null,
            "left": null
          }
        },
        "0610a9e77e9c4090b1ec86e2e1e388bc": {
          "model_module": "@jupyter-widgets/controls",
          "model_name": "HTMLModel",
          "model_module_version": "1.5.0",
          "state": {
            "_view_name": "HTMLView",
            "style": "IPY_MODEL_5daee0c6a2c54460bfadde0020dbc2ba",
            "_dom_classes": [],
            "description": "",
            "_model_name": "HTMLModel",
            "placeholder": "​",
            "_view_module": "@jupyter-widgets/controls",
            "_model_module_version": "1.5.0",
            "value": "",
            "_view_count": null,
            "_view_module_version": "1.5.0",
            "description_tooltip": null,
            "_model_module": "@jupyter-widgets/controls",
            "layout": "IPY_MODEL_3e720997139d45198809fe25188bffc5"
          }
        },
        "30d5568ad95144df998c7e94bb46ba9f": {
          "model_module": "@jupyter-widgets/controls",
          "model_name": "FloatProgressModel",
          "model_module_version": "1.5.0",
          "state": {
            "_view_name": "ProgressView",
            "style": "IPY_MODEL_3aa9de9d94ed40a986bdf5a2c346b6d1",
            "_dom_classes": [],
            "description": "",
            "_model_name": "FloatProgressModel",
            "bar_style": "success",
            "max": 28881,
            "_view_module": "@jupyter-widgets/controls",
            "_model_module_version": "1.5.0",
            "value": 28881,
            "_view_count": null,
            "_view_module_version": "1.5.0",
            "orientation": "horizontal",
            "min": 0,
            "description_tooltip": null,
            "_model_module": "@jupyter-widgets/controls",
            "layout": "IPY_MODEL_1af07ff1ed56411a88dc8885a8a4bdfa"
          }
        },
        "0e95a378fbde42408a3c743f54944a18": {
          "model_module": "@jupyter-widgets/controls",
          "model_name": "HTMLModel",
          "model_module_version": "1.5.0",
          "state": {
            "_view_name": "HTMLView",
            "style": "IPY_MODEL_c1ccc2392eb64c459b8e7d914e193bf9",
            "_dom_classes": [],
            "description": "",
            "_model_name": "HTMLModel",
            "placeholder": "​",
            "_view_module": "@jupyter-widgets/controls",
            "_model_module_version": "1.5.0",
            "value": " 29696/? [00:00&lt;00:00, 915300.20it/s]",
            "_view_count": null,
            "_view_module_version": "1.5.0",
            "description_tooltip": null,
            "_model_module": "@jupyter-widgets/controls",
            "layout": "IPY_MODEL_d89eb6a4b4724f358f0de6d61c0ba577"
          }
        },
        "5daee0c6a2c54460bfadde0020dbc2ba": {
          "model_module": "@jupyter-widgets/controls",
          "model_name": "DescriptionStyleModel",
          "model_module_version": "1.5.0",
          "state": {
            "_view_name": "StyleView",
            "_model_name": "DescriptionStyleModel",
            "description_width": "",
            "_view_module": "@jupyter-widgets/base",
            "_model_module_version": "1.5.0",
            "_view_count": null,
            "_view_module_version": "1.2.0",
            "_model_module": "@jupyter-widgets/controls"
          }
        },
        "3e720997139d45198809fe25188bffc5": {
          "model_module": "@jupyter-widgets/base",
          "model_name": "LayoutModel",
          "model_module_version": "1.2.0",
          "state": {
            "_view_name": "LayoutView",
            "grid_template_rows": null,
            "right": null,
            "justify_content": null,
            "_view_module": "@jupyter-widgets/base",
            "overflow": null,
            "_model_module_version": "1.2.0",
            "_view_count": null,
            "flex_flow": null,
            "width": null,
            "min_width": null,
            "border": null,
            "align_items": null,
            "bottom": null,
            "_model_module": "@jupyter-widgets/base",
            "top": null,
            "grid_column": null,
            "overflow_y": null,
            "overflow_x": null,
            "grid_auto_flow": null,
            "grid_area": null,
            "grid_template_columns": null,
            "flex": null,
            "_model_name": "LayoutModel",
            "justify_items": null,
            "grid_row": null,
            "max_height": null,
            "align_content": null,
            "visibility": null,
            "align_self": null,
            "height": null,
            "min_height": null,
            "padding": null,
            "grid_auto_rows": null,
            "grid_gap": null,
            "max_width": null,
            "order": null,
            "_view_module_version": "1.2.0",
            "grid_template_areas": null,
            "object_position": null,
            "object_fit": null,
            "grid_auto_columns": null,
            "margin": null,
            "display": null,
            "left": null
          }
        },
        "3aa9de9d94ed40a986bdf5a2c346b6d1": {
          "model_module": "@jupyter-widgets/controls",
          "model_name": "ProgressStyleModel",
          "model_module_version": "1.5.0",
          "state": {
            "_view_name": "StyleView",
            "_model_name": "ProgressStyleModel",
            "description_width": "",
            "_view_module": "@jupyter-widgets/base",
            "_model_module_version": "1.5.0",
            "_view_count": null,
            "_view_module_version": "1.2.0",
            "bar_color": null,
            "_model_module": "@jupyter-widgets/controls"
          }
        },
        "1af07ff1ed56411a88dc8885a8a4bdfa": {
          "model_module": "@jupyter-widgets/base",
          "model_name": "LayoutModel",
          "model_module_version": "1.2.0",
          "state": {
            "_view_name": "LayoutView",
            "grid_template_rows": null,
            "right": null,
            "justify_content": null,
            "_view_module": "@jupyter-widgets/base",
            "overflow": null,
            "_model_module_version": "1.2.0",
            "_view_count": null,
            "flex_flow": null,
            "width": null,
            "min_width": null,
            "border": null,
            "align_items": null,
            "bottom": null,
            "_model_module": "@jupyter-widgets/base",
            "top": null,
            "grid_column": null,
            "overflow_y": null,
            "overflow_x": null,
            "grid_auto_flow": null,
            "grid_area": null,
            "grid_template_columns": null,
            "flex": null,
            "_model_name": "LayoutModel",
            "justify_items": null,
            "grid_row": null,
            "max_height": null,
            "align_content": null,
            "visibility": null,
            "align_self": null,
            "height": null,
            "min_height": null,
            "padding": null,
            "grid_auto_rows": null,
            "grid_gap": null,
            "max_width": null,
            "order": null,
            "_view_module_version": "1.2.0",
            "grid_template_areas": null,
            "object_position": null,
            "object_fit": null,
            "grid_auto_columns": null,
            "margin": null,
            "display": null,
            "left": null
          }
        },
        "c1ccc2392eb64c459b8e7d914e193bf9": {
          "model_module": "@jupyter-widgets/controls",
          "model_name": "DescriptionStyleModel",
          "model_module_version": "1.5.0",
          "state": {
            "_view_name": "StyleView",
            "_model_name": "DescriptionStyleModel",
            "description_width": "",
            "_view_module": "@jupyter-widgets/base",
            "_model_module_version": "1.5.0",
            "_view_count": null,
            "_view_module_version": "1.2.0",
            "_model_module": "@jupyter-widgets/controls"
          }
        },
        "d89eb6a4b4724f358f0de6d61c0ba577": {
          "model_module": "@jupyter-widgets/base",
          "model_name": "LayoutModel",
          "model_module_version": "1.2.0",
          "state": {
            "_view_name": "LayoutView",
            "grid_template_rows": null,
            "right": null,
            "justify_content": null,
            "_view_module": "@jupyter-widgets/base",
            "overflow": null,
            "_model_module_version": "1.2.0",
            "_view_count": null,
            "flex_flow": null,
            "width": null,
            "min_width": null,
            "border": null,
            "align_items": null,
            "bottom": null,
            "_model_module": "@jupyter-widgets/base",
            "top": null,
            "grid_column": null,
            "overflow_y": null,
            "overflow_x": null,
            "grid_auto_flow": null,
            "grid_area": null,
            "grid_template_columns": null,
            "flex": null,
            "_model_name": "LayoutModel",
            "justify_items": null,
            "grid_row": null,
            "max_height": null,
            "align_content": null,
            "visibility": null,
            "align_self": null,
            "height": null,
            "min_height": null,
            "padding": null,
            "grid_auto_rows": null,
            "grid_gap": null,
            "max_width": null,
            "order": null,
            "_view_module_version": "1.2.0",
            "grid_template_areas": null,
            "object_position": null,
            "object_fit": null,
            "grid_auto_columns": null,
            "margin": null,
            "display": null,
            "left": null
          }
        },
        "0bbfb2412bf440adb7e52f45321f3ca8": {
          "model_module": "@jupyter-widgets/controls",
          "model_name": "HBoxModel",
          "model_module_version": "1.5.0",
          "state": {
            "_view_name": "HBoxView",
            "_dom_classes": [],
            "_model_name": "HBoxModel",
            "_view_module": "@jupyter-widgets/controls",
            "_model_module_version": "1.5.0",
            "_view_count": null,
            "_view_module_version": "1.5.0",
            "box_style": "",
            "layout": "IPY_MODEL_a956bbea21f0465696257a0265f91ae0",
            "_model_module": "@jupyter-widgets/controls",
            "children": [
              "IPY_MODEL_e57eded95b68463685cf20179e2721e9",
              "IPY_MODEL_95c5f9be2d974045959c1eb980d336a5",
              "IPY_MODEL_3c047d46cad84686b173ca10dcd03117"
            ]
          }
        },
        "a956bbea21f0465696257a0265f91ae0": {
          "model_module": "@jupyter-widgets/base",
          "model_name": "LayoutModel",
          "model_module_version": "1.2.0",
          "state": {
            "_view_name": "LayoutView",
            "grid_template_rows": null,
            "right": null,
            "justify_content": null,
            "_view_module": "@jupyter-widgets/base",
            "overflow": null,
            "_model_module_version": "1.2.0",
            "_view_count": null,
            "flex_flow": null,
            "width": null,
            "min_width": null,
            "border": null,
            "align_items": null,
            "bottom": null,
            "_model_module": "@jupyter-widgets/base",
            "top": null,
            "grid_column": null,
            "overflow_y": null,
            "overflow_x": null,
            "grid_auto_flow": null,
            "grid_area": null,
            "grid_template_columns": null,
            "flex": null,
            "_model_name": "LayoutModel",
            "justify_items": null,
            "grid_row": null,
            "max_height": null,
            "align_content": null,
            "visibility": null,
            "align_self": null,
            "height": null,
            "min_height": null,
            "padding": null,
            "grid_auto_rows": null,
            "grid_gap": null,
            "max_width": null,
            "order": null,
            "_view_module_version": "1.2.0",
            "grid_template_areas": null,
            "object_position": null,
            "object_fit": null,
            "grid_auto_columns": null,
            "margin": null,
            "display": null,
            "left": null
          }
        },
        "e57eded95b68463685cf20179e2721e9": {
          "model_module": "@jupyter-widgets/controls",
          "model_name": "HTMLModel",
          "model_module_version": "1.5.0",
          "state": {
            "_view_name": "HTMLView",
            "style": "IPY_MODEL_78f3692354bc4b06a383e310c55f0384",
            "_dom_classes": [],
            "description": "",
            "_model_name": "HTMLModel",
            "placeholder": "​",
            "_view_module": "@jupyter-widgets/controls",
            "_model_module_version": "1.5.0",
            "value": "",
            "_view_count": null,
            "_view_module_version": "1.5.0",
            "description_tooltip": null,
            "_model_module": "@jupyter-widgets/controls",
            "layout": "IPY_MODEL_9b715c2555104697aea0dc5c5d2f52b1"
          }
        },
        "95c5f9be2d974045959c1eb980d336a5": {
          "model_module": "@jupyter-widgets/controls",
          "model_name": "FloatProgressModel",
          "model_module_version": "1.5.0",
          "state": {
            "_view_name": "ProgressView",
            "style": "IPY_MODEL_6b42993a0c7646048e2c4f29363ef447",
            "_dom_classes": [],
            "description": "",
            "_model_name": "FloatProgressModel",
            "bar_style": "success",
            "max": 1648877,
            "_view_module": "@jupyter-widgets/controls",
            "_model_module_version": "1.5.0",
            "value": 1648877,
            "_view_count": null,
            "_view_module_version": "1.5.0",
            "orientation": "horizontal",
            "min": 0,
            "description_tooltip": null,
            "_model_module": "@jupyter-widgets/controls",
            "layout": "IPY_MODEL_bfd54aab07554ce9bce746bf4f1cd7ca"
          }
        },
        "3c047d46cad84686b173ca10dcd03117": {
          "model_module": "@jupyter-widgets/controls",
          "model_name": "HTMLModel",
          "model_module_version": "1.5.0",
          "state": {
            "_view_name": "HTMLView",
            "style": "IPY_MODEL_e2d83ac799844fabbd9e9abd43f0f8f5",
            "_dom_classes": [],
            "description": "",
            "_model_name": "HTMLModel",
            "placeholder": "​",
            "_view_module": "@jupyter-widgets/controls",
            "_model_module_version": "1.5.0",
            "value": " 1649664/? [00:00&lt;00:00, 4173913.57it/s]",
            "_view_count": null,
            "_view_module_version": "1.5.0",
            "description_tooltip": null,
            "_model_module": "@jupyter-widgets/controls",
            "layout": "IPY_MODEL_afdbe91cd61841adba2ff4047086ca46"
          }
        },
        "78f3692354bc4b06a383e310c55f0384": {
          "model_module": "@jupyter-widgets/controls",
          "model_name": "DescriptionStyleModel",
          "model_module_version": "1.5.0",
          "state": {
            "_view_name": "StyleView",
            "_model_name": "DescriptionStyleModel",
            "description_width": "",
            "_view_module": "@jupyter-widgets/base",
            "_model_module_version": "1.5.0",
            "_view_count": null,
            "_view_module_version": "1.2.0",
            "_model_module": "@jupyter-widgets/controls"
          }
        },
        "9b715c2555104697aea0dc5c5d2f52b1": {
          "model_module": "@jupyter-widgets/base",
          "model_name": "LayoutModel",
          "model_module_version": "1.2.0",
          "state": {
            "_view_name": "LayoutView",
            "grid_template_rows": null,
            "right": null,
            "justify_content": null,
            "_view_module": "@jupyter-widgets/base",
            "overflow": null,
            "_model_module_version": "1.2.0",
            "_view_count": null,
            "flex_flow": null,
            "width": null,
            "min_width": null,
            "border": null,
            "align_items": null,
            "bottom": null,
            "_model_module": "@jupyter-widgets/base",
            "top": null,
            "grid_column": null,
            "overflow_y": null,
            "overflow_x": null,
            "grid_auto_flow": null,
            "grid_area": null,
            "grid_template_columns": null,
            "flex": null,
            "_model_name": "LayoutModel",
            "justify_items": null,
            "grid_row": null,
            "max_height": null,
            "align_content": null,
            "visibility": null,
            "align_self": null,
            "height": null,
            "min_height": null,
            "padding": null,
            "grid_auto_rows": null,
            "grid_gap": null,
            "max_width": null,
            "order": null,
            "_view_module_version": "1.2.0",
            "grid_template_areas": null,
            "object_position": null,
            "object_fit": null,
            "grid_auto_columns": null,
            "margin": null,
            "display": null,
            "left": null
          }
        },
        "6b42993a0c7646048e2c4f29363ef447": {
          "model_module": "@jupyter-widgets/controls",
          "model_name": "ProgressStyleModel",
          "model_module_version": "1.5.0",
          "state": {
            "_view_name": "StyleView",
            "_model_name": "ProgressStyleModel",
            "description_width": "",
            "_view_module": "@jupyter-widgets/base",
            "_model_module_version": "1.5.0",
            "_view_count": null,
            "_view_module_version": "1.2.0",
            "bar_color": null,
            "_model_module": "@jupyter-widgets/controls"
          }
        },
        "bfd54aab07554ce9bce746bf4f1cd7ca": {
          "model_module": "@jupyter-widgets/base",
          "model_name": "LayoutModel",
          "model_module_version": "1.2.0",
          "state": {
            "_view_name": "LayoutView",
            "grid_template_rows": null,
            "right": null,
            "justify_content": null,
            "_view_module": "@jupyter-widgets/base",
            "overflow": null,
            "_model_module_version": "1.2.0",
            "_view_count": null,
            "flex_flow": null,
            "width": null,
            "min_width": null,
            "border": null,
            "align_items": null,
            "bottom": null,
            "_model_module": "@jupyter-widgets/base",
            "top": null,
            "grid_column": null,
            "overflow_y": null,
            "overflow_x": null,
            "grid_auto_flow": null,
            "grid_area": null,
            "grid_template_columns": null,
            "flex": null,
            "_model_name": "LayoutModel",
            "justify_items": null,
            "grid_row": null,
            "max_height": null,
            "align_content": null,
            "visibility": null,
            "align_self": null,
            "height": null,
            "min_height": null,
            "padding": null,
            "grid_auto_rows": null,
            "grid_gap": null,
            "max_width": null,
            "order": null,
            "_view_module_version": "1.2.0",
            "grid_template_areas": null,
            "object_position": null,
            "object_fit": null,
            "grid_auto_columns": null,
            "margin": null,
            "display": null,
            "left": null
          }
        },
        "e2d83ac799844fabbd9e9abd43f0f8f5": {
          "model_module": "@jupyter-widgets/controls",
          "model_name": "DescriptionStyleModel",
          "model_module_version": "1.5.0",
          "state": {
            "_view_name": "StyleView",
            "_model_name": "DescriptionStyleModel",
            "description_width": "",
            "_view_module": "@jupyter-widgets/base",
            "_model_module_version": "1.5.0",
            "_view_count": null,
            "_view_module_version": "1.2.0",
            "_model_module": "@jupyter-widgets/controls"
          }
        },
        "afdbe91cd61841adba2ff4047086ca46": {
          "model_module": "@jupyter-widgets/base",
          "model_name": "LayoutModel",
          "model_module_version": "1.2.0",
          "state": {
            "_view_name": "LayoutView",
            "grid_template_rows": null,
            "right": null,
            "justify_content": null,
            "_view_module": "@jupyter-widgets/base",
            "overflow": null,
            "_model_module_version": "1.2.0",
            "_view_count": null,
            "flex_flow": null,
            "width": null,
            "min_width": null,
            "border": null,
            "align_items": null,
            "bottom": null,
            "_model_module": "@jupyter-widgets/base",
            "top": null,
            "grid_column": null,
            "overflow_y": null,
            "overflow_x": null,
            "grid_auto_flow": null,
            "grid_area": null,
            "grid_template_columns": null,
            "flex": null,
            "_model_name": "LayoutModel",
            "justify_items": null,
            "grid_row": null,
            "max_height": null,
            "align_content": null,
            "visibility": null,
            "align_self": null,
            "height": null,
            "min_height": null,
            "padding": null,
            "grid_auto_rows": null,
            "grid_gap": null,
            "max_width": null,
            "order": null,
            "_view_module_version": "1.2.0",
            "grid_template_areas": null,
            "object_position": null,
            "object_fit": null,
            "grid_auto_columns": null,
            "margin": null,
            "display": null,
            "left": null
          }
        },
        "456c0859f35f4d4bb146ea57e35bdc53": {
          "model_module": "@jupyter-widgets/controls",
          "model_name": "HBoxModel",
          "model_module_version": "1.5.0",
          "state": {
            "_view_name": "HBoxView",
            "_dom_classes": [],
            "_model_name": "HBoxModel",
            "_view_module": "@jupyter-widgets/controls",
            "_model_module_version": "1.5.0",
            "_view_count": null,
            "_view_module_version": "1.5.0",
            "box_style": "",
            "layout": "IPY_MODEL_7f5c0ee9dfa148bfbbe4c3ace0a7f45e",
            "_model_module": "@jupyter-widgets/controls",
            "children": [
              "IPY_MODEL_b501461a9ce041caa1a23e818119b164",
              "IPY_MODEL_bdfec006d6624da9a3c5f88cf8dee407",
              "IPY_MODEL_3d15e8a6eea54c238bde9966b24bd0a6"
            ]
          }
        },
        "7f5c0ee9dfa148bfbbe4c3ace0a7f45e": {
          "model_module": "@jupyter-widgets/base",
          "model_name": "LayoutModel",
          "model_module_version": "1.2.0",
          "state": {
            "_view_name": "LayoutView",
            "grid_template_rows": null,
            "right": null,
            "justify_content": null,
            "_view_module": "@jupyter-widgets/base",
            "overflow": null,
            "_model_module_version": "1.2.0",
            "_view_count": null,
            "flex_flow": null,
            "width": null,
            "min_width": null,
            "border": null,
            "align_items": null,
            "bottom": null,
            "_model_module": "@jupyter-widgets/base",
            "top": null,
            "grid_column": null,
            "overflow_y": null,
            "overflow_x": null,
            "grid_auto_flow": null,
            "grid_area": null,
            "grid_template_columns": null,
            "flex": null,
            "_model_name": "LayoutModel",
            "justify_items": null,
            "grid_row": null,
            "max_height": null,
            "align_content": null,
            "visibility": null,
            "align_self": null,
            "height": null,
            "min_height": null,
            "padding": null,
            "grid_auto_rows": null,
            "grid_gap": null,
            "max_width": null,
            "order": null,
            "_view_module_version": "1.2.0",
            "grid_template_areas": null,
            "object_position": null,
            "object_fit": null,
            "grid_auto_columns": null,
            "margin": null,
            "display": null,
            "left": null
          }
        },
        "b501461a9ce041caa1a23e818119b164": {
          "model_module": "@jupyter-widgets/controls",
          "model_name": "HTMLModel",
          "model_module_version": "1.5.0",
          "state": {
            "_view_name": "HTMLView",
            "style": "IPY_MODEL_987a1e1e60c041f3b6b751a0a8f9892c",
            "_dom_classes": [],
            "description": "",
            "_model_name": "HTMLModel",
            "placeholder": "​",
            "_view_module": "@jupyter-widgets/controls",
            "_model_module_version": "1.5.0",
            "value": "",
            "_view_count": null,
            "_view_module_version": "1.5.0",
            "description_tooltip": null,
            "_model_module": "@jupyter-widgets/controls",
            "layout": "IPY_MODEL_82ba92d5c75645e9b606e0d83a96d4f6"
          }
        },
        "bdfec006d6624da9a3c5f88cf8dee407": {
          "model_module": "@jupyter-widgets/controls",
          "model_name": "FloatProgressModel",
          "model_module_version": "1.5.0",
          "state": {
            "_view_name": "ProgressView",
            "style": "IPY_MODEL_330a5eb7059448319465a1a61936028d",
            "_dom_classes": [],
            "description": "",
            "_model_name": "FloatProgressModel",
            "bar_style": "success",
            "max": 4542,
            "_view_module": "@jupyter-widgets/controls",
            "_model_module_version": "1.5.0",
            "value": 4542,
            "_view_count": null,
            "_view_module_version": "1.5.0",
            "orientation": "horizontal",
            "min": 0,
            "description_tooltip": null,
            "_model_module": "@jupyter-widgets/controls",
            "layout": "IPY_MODEL_b617fac9cb6447b4a94ef2ddefe938db"
          }
        },
        "3d15e8a6eea54c238bde9966b24bd0a6": {
          "model_module": "@jupyter-widgets/controls",
          "model_name": "HTMLModel",
          "model_module_version": "1.5.0",
          "state": {
            "_view_name": "HTMLView",
            "style": "IPY_MODEL_4011d352386c45ffae15950030b2bd39",
            "_dom_classes": [],
            "description": "",
            "_model_name": "HTMLModel",
            "placeholder": "​",
            "_view_module": "@jupyter-widgets/controls",
            "_model_module_version": "1.5.0",
            "value": " 5120/? [00:00&lt;00:00, 153873.09it/s]",
            "_view_count": null,
            "_view_module_version": "1.5.0",
            "description_tooltip": null,
            "_model_module": "@jupyter-widgets/controls",
            "layout": "IPY_MODEL_96b1d48400774d3bb55ec93f5cd34de4"
          }
        },
        "987a1e1e60c041f3b6b751a0a8f9892c": {
          "model_module": "@jupyter-widgets/controls",
          "model_name": "DescriptionStyleModel",
          "model_module_version": "1.5.0",
          "state": {
            "_view_name": "StyleView",
            "_model_name": "DescriptionStyleModel",
            "description_width": "",
            "_view_module": "@jupyter-widgets/base",
            "_model_module_version": "1.5.0",
            "_view_count": null,
            "_view_module_version": "1.2.0",
            "_model_module": "@jupyter-widgets/controls"
          }
        },
        "82ba92d5c75645e9b606e0d83a96d4f6": {
          "model_module": "@jupyter-widgets/base",
          "model_name": "LayoutModel",
          "model_module_version": "1.2.0",
          "state": {
            "_view_name": "LayoutView",
            "grid_template_rows": null,
            "right": null,
            "justify_content": null,
            "_view_module": "@jupyter-widgets/base",
            "overflow": null,
            "_model_module_version": "1.2.0",
            "_view_count": null,
            "flex_flow": null,
            "width": null,
            "min_width": null,
            "border": null,
            "align_items": null,
            "bottom": null,
            "_model_module": "@jupyter-widgets/base",
            "top": null,
            "grid_column": null,
            "overflow_y": null,
            "overflow_x": null,
            "grid_auto_flow": null,
            "grid_area": null,
            "grid_template_columns": null,
            "flex": null,
            "_model_name": "LayoutModel",
            "justify_items": null,
            "grid_row": null,
            "max_height": null,
            "align_content": null,
            "visibility": null,
            "align_self": null,
            "height": null,
            "min_height": null,
            "padding": null,
            "grid_auto_rows": null,
            "grid_gap": null,
            "max_width": null,
            "order": null,
            "_view_module_version": "1.2.0",
            "grid_template_areas": null,
            "object_position": null,
            "object_fit": null,
            "grid_auto_columns": null,
            "margin": null,
            "display": null,
            "left": null
          }
        },
        "330a5eb7059448319465a1a61936028d": {
          "model_module": "@jupyter-widgets/controls",
          "model_name": "ProgressStyleModel",
          "model_module_version": "1.5.0",
          "state": {
            "_view_name": "StyleView",
            "_model_name": "ProgressStyleModel",
            "description_width": "",
            "_view_module": "@jupyter-widgets/base",
            "_model_module_version": "1.5.0",
            "_view_count": null,
            "_view_module_version": "1.2.0",
            "bar_color": null,
            "_model_module": "@jupyter-widgets/controls"
          }
        },
        "b617fac9cb6447b4a94ef2ddefe938db": {
          "model_module": "@jupyter-widgets/base",
          "model_name": "LayoutModel",
          "model_module_version": "1.2.0",
          "state": {
            "_view_name": "LayoutView",
            "grid_template_rows": null,
            "right": null,
            "justify_content": null,
            "_view_module": "@jupyter-widgets/base",
            "overflow": null,
            "_model_module_version": "1.2.0",
            "_view_count": null,
            "flex_flow": null,
            "width": null,
            "min_width": null,
            "border": null,
            "align_items": null,
            "bottom": null,
            "_model_module": "@jupyter-widgets/base",
            "top": null,
            "grid_column": null,
            "overflow_y": null,
            "overflow_x": null,
            "grid_auto_flow": null,
            "grid_area": null,
            "grid_template_columns": null,
            "flex": null,
            "_model_name": "LayoutModel",
            "justify_items": null,
            "grid_row": null,
            "max_height": null,
            "align_content": null,
            "visibility": null,
            "align_self": null,
            "height": null,
            "min_height": null,
            "padding": null,
            "grid_auto_rows": null,
            "grid_gap": null,
            "max_width": null,
            "order": null,
            "_view_module_version": "1.2.0",
            "grid_template_areas": null,
            "object_position": null,
            "object_fit": null,
            "grid_auto_columns": null,
            "margin": null,
            "display": null,
            "left": null
          }
        },
        "4011d352386c45ffae15950030b2bd39": {
          "model_module": "@jupyter-widgets/controls",
          "model_name": "DescriptionStyleModel",
          "model_module_version": "1.5.0",
          "state": {
            "_view_name": "StyleView",
            "_model_name": "DescriptionStyleModel",
            "description_width": "",
            "_view_module": "@jupyter-widgets/base",
            "_model_module_version": "1.5.0",
            "_view_count": null,
            "_view_module_version": "1.2.0",
            "_model_module": "@jupyter-widgets/controls"
          }
        },
        "96b1d48400774d3bb55ec93f5cd34de4": {
          "model_module": "@jupyter-widgets/base",
          "model_name": "LayoutModel",
          "model_module_version": "1.2.0",
          "state": {
            "_view_name": "LayoutView",
            "grid_template_rows": null,
            "right": null,
            "justify_content": null,
            "_view_module": "@jupyter-widgets/base",
            "overflow": null,
            "_model_module_version": "1.2.0",
            "_view_count": null,
            "flex_flow": null,
            "width": null,
            "min_width": null,
            "border": null,
            "align_items": null,
            "bottom": null,
            "_model_module": "@jupyter-widgets/base",
            "top": null,
            "grid_column": null,
            "overflow_y": null,
            "overflow_x": null,
            "grid_auto_flow": null,
            "grid_area": null,
            "grid_template_columns": null,
            "flex": null,
            "_model_name": "LayoutModel",
            "justify_items": null,
            "grid_row": null,
            "max_height": null,
            "align_content": null,
            "visibility": null,
            "align_self": null,
            "height": null,
            "min_height": null,
            "padding": null,
            "grid_auto_rows": null,
            "grid_gap": null,
            "max_width": null,
            "order": null,
            "_view_module_version": "1.2.0",
            "grid_template_areas": null,
            "object_position": null,
            "object_fit": null,
            "grid_auto_columns": null,
            "margin": null,
            "display": null,
            "left": null
          }
        }
      }
    }
  },
  "cells": [
    {
      "cell_type": "markdown",
      "metadata": {
        "id": "view-in-github",
        "colab_type": "text"
      },
      "source": [
        "<a href=\"https://colab.research.google.com/github/ChoiDae1/2022_CVLAB_Winter_Study/blob/main/PyTorch/Image%20and%20Video/Adversarial_Example_Generation.ipynb\" target=\"_parent\"><img src=\"https://colab.research.google.com/assets/colab-badge.svg\" alt=\"Open In Colab\"/></a>"
      ]
    },
    {
      "cell_type": "markdown",
      "source": [
        "## Introduction to Adversarial Machine Learning\n",
        "\n",
        "For context, there are many categories of adversarial attacks, each with a different goal and assumption of the attacker’s knowledge. However, in general the overarching goal is to add the least amount of perturbation to the input data to cause the desired misclassification.\n",
        "\n",
        "Several kinds of **assumptions of the attacker’s knowledge**\n",
        "\n",
        "1. **white-box**: Assuming the attacker has full knowledge and access to the model, including architecture, inputs, outputs, and weights. \n",
        "2. **black-box**: Assuming the attacker only has access to the inputs and outputs of the model, and knows nothing about the underlying architecture or weights. \n",
        "\n",
        "There are also **several types of goals**\n",
        "1. **misclassification**: Meaning the adversary only wants the output classification to be wrong but does not care what the new classification is. \n",
        "2. **Source/target misclassification**: Meaning the adversary wants to alter an image that is originally of a specific source class so that it is classified as a specific target class."
      ],
      "metadata": {
        "id": "XiUlbSdauQqP"
      }
    },
    {
      "cell_type": "markdown",
      "source": [
        "## Fast Gradient Sign Attack\n",
        "\n",
        "The FGSM attack is a white-box attack with the goal of misclassification. With this background information, we can now discuss the attack in detail.\n",
        "This attack uses the gradient of the loss w.r.t the input data, then adjusts the input data to maximize the loss."
      ],
      "metadata": {
        "id": "aPySSG8vwYdX"
      }
    },
    {
      "cell_type": "code",
      "source": [
        "from __future__ import print_function\n",
        "import torch\n",
        "import torch.nn as nn\n",
        "import torch.nn.functional as F\n",
        "import torch.optim as optim\n",
        "from torchvision import datasets, transforms\n",
        "import numpy as np\n",
        "import matplotlib.pyplot as plt\n",
        "\n",
        "# NOTE: This is a hack to get around \"User-agent\" limitations when downloading MNIST datasets\n",
        "#       see, https://github.com/pytorch/vision/issues/3497 for more information\n",
        "from six.moves import urllib\n",
        "opener = urllib.request.build_opener()\n",
        "opener.addheaders = [('User-agent', 'Mozilla/5.0')]\n",
        "urllib.request.install_opener(opener)"
      ],
      "metadata": {
        "id": "k-thwF0RvmKN"
      },
      "execution_count": 1,
      "outputs": []
    },
    {
      "cell_type": "markdown",
      "source": [
        "### Inputs"
      ],
      "metadata": {
        "id": "21STojdYy_80"
      }
    },
    {
      "cell_type": "code",
      "source": [
        "epsilons = [0, .05, .1, .15, .2, .25, .3]\n",
        "pretrained_model = \"lenet_mnist_model.pth\"\n",
        "use_cuda=True"
      ],
      "metadata": {
        "id": "F5sa9WHRyvlY"
      },
      "execution_count": 26,
      "outputs": []
    },
    {
      "cell_type": "markdown",
      "source": [
        "### Model Under Attack"
      ],
      "metadata": {
        "id": "9pGkb1RCzG5U"
      }
    },
    {
      "cell_type": "code",
      "source": [
        "#MNIST Train dataset and dataloader \n",
        "\n",
        "train_loader = torch.utils.data.DataLoader(\n",
        "    datasets.MNIST('../data', train=True, download=True, transform=transforms.Compose([\n",
        "            transforms.ToTensor(),\n",
        "            ])),\n",
        "        batch_size=24, shuffle=True)\n",
        "\n",
        "# MNIST Test dataset and dataloader declaration\n",
        "test_loader = torch.utils.data.DataLoader(\n",
        "    datasets.MNIST('../data', train=False, download=True, transform=transforms.Compose([\n",
        "            transforms.ToTensor(),\n",
        "            ])),\n",
        "        batch_size=1, shuffle=True)"
      ],
      "metadata": {
        "colab": {
          "base_uri": "https://localhost:8080/",
          "height": 439,
          "referenced_widgets": [
            "5584d33409894720bd76bb70414b890e",
            "0dfe99b2a35d42b8b3aed390b720699e",
            "99f5ee60396142758d80dbe419ee695a",
            "027048914d3447f7a7d0796831e573bd",
            "cf6a0c550a574813b8cb38ed6657d8ba",
            "8116071b3cd9497e96afbea46e64ba85",
            "a03f17603ae142b78ba1976fa4dfe443",
            "80ddc104a9e84b10ada9fe9af07017d8",
            "7dac1e1c56704397b3443214398dab5c",
            "ec4fe860921a4ed0bc80a11f31512b1a",
            "dc947e7d84594865bce38b5db2e5d470",
            "b8cd662b9d78454f9b62177c72d8a13a",
            "b020013bcab64e49a0a015326a321ad0",
            "0610a9e77e9c4090b1ec86e2e1e388bc",
            "30d5568ad95144df998c7e94bb46ba9f",
            "0e95a378fbde42408a3c743f54944a18",
            "5daee0c6a2c54460bfadde0020dbc2ba",
            "3e720997139d45198809fe25188bffc5",
            "3aa9de9d94ed40a986bdf5a2c346b6d1",
            "1af07ff1ed56411a88dc8885a8a4bdfa",
            "c1ccc2392eb64c459b8e7d914e193bf9",
            "d89eb6a4b4724f358f0de6d61c0ba577",
            "0bbfb2412bf440adb7e52f45321f3ca8",
            "a956bbea21f0465696257a0265f91ae0",
            "e57eded95b68463685cf20179e2721e9",
            "95c5f9be2d974045959c1eb980d336a5",
            "3c047d46cad84686b173ca10dcd03117",
            "78f3692354bc4b06a383e310c55f0384",
            "9b715c2555104697aea0dc5c5d2f52b1",
            "6b42993a0c7646048e2c4f29363ef447",
            "bfd54aab07554ce9bce746bf4f1cd7ca",
            "e2d83ac799844fabbd9e9abd43f0f8f5",
            "afdbe91cd61841adba2ff4047086ca46",
            "456c0859f35f4d4bb146ea57e35bdc53",
            "7f5c0ee9dfa148bfbbe4c3ace0a7f45e",
            "b501461a9ce041caa1a23e818119b164",
            "bdfec006d6624da9a3c5f88cf8dee407",
            "3d15e8a6eea54c238bde9966b24bd0a6",
            "987a1e1e60c041f3b6b751a0a8f9892c",
            "82ba92d5c75645e9b606e0d83a96d4f6",
            "330a5eb7059448319465a1a61936028d",
            "b617fac9cb6447b4a94ef2ddefe938db",
            "4011d352386c45ffae15950030b2bd39",
            "96b1d48400774d3bb55ec93f5cd34de4"
          ]
        },
        "id": "mtibxVMuzzt-",
        "outputId": "b1fdbd91-52b5-41f6-f89b-aa0504dd272f"
      },
      "execution_count": 3,
      "outputs": [
        {
          "output_type": "stream",
          "name": "stdout",
          "text": [
            "Downloading http://yann.lecun.com/exdb/mnist/train-images-idx3-ubyte.gz\n",
            "Downloading http://yann.lecun.com/exdb/mnist/train-images-idx3-ubyte.gz to ../data/MNIST/raw/train-images-idx3-ubyte.gz\n"
          ]
        },
        {
          "output_type": "display_data",
          "data": {
            "application/vnd.jupyter.widget-view+json": {
              "model_id": "5584d33409894720bd76bb70414b890e",
              "version_minor": 0,
              "version_major": 2
            },
            "text/plain": [
              "  0%|          | 0/9912422 [00:00<?, ?it/s]"
            ]
          },
          "metadata": {}
        },
        {
          "output_type": "stream",
          "name": "stdout",
          "text": [
            "Extracting ../data/MNIST/raw/train-images-idx3-ubyte.gz to ../data/MNIST/raw\n",
            "\n",
            "Downloading http://yann.lecun.com/exdb/mnist/train-labels-idx1-ubyte.gz\n",
            "Downloading http://yann.lecun.com/exdb/mnist/train-labels-idx1-ubyte.gz to ../data/MNIST/raw/train-labels-idx1-ubyte.gz\n"
          ]
        },
        {
          "output_type": "display_data",
          "data": {
            "application/vnd.jupyter.widget-view+json": {
              "model_id": "b8cd662b9d78454f9b62177c72d8a13a",
              "version_minor": 0,
              "version_major": 2
            },
            "text/plain": [
              "  0%|          | 0/28881 [00:00<?, ?it/s]"
            ]
          },
          "metadata": {}
        },
        {
          "output_type": "stream",
          "name": "stdout",
          "text": [
            "Extracting ../data/MNIST/raw/train-labels-idx1-ubyte.gz to ../data/MNIST/raw\n",
            "\n",
            "Downloading http://yann.lecun.com/exdb/mnist/t10k-images-idx3-ubyte.gz\n",
            "Downloading http://yann.lecun.com/exdb/mnist/t10k-images-idx3-ubyte.gz to ../data/MNIST/raw/t10k-images-idx3-ubyte.gz\n"
          ]
        },
        {
          "output_type": "display_data",
          "data": {
            "application/vnd.jupyter.widget-view+json": {
              "model_id": "0bbfb2412bf440adb7e52f45321f3ca8",
              "version_minor": 0,
              "version_major": 2
            },
            "text/plain": [
              "  0%|          | 0/1648877 [00:00<?, ?it/s]"
            ]
          },
          "metadata": {}
        },
        {
          "output_type": "stream",
          "name": "stdout",
          "text": [
            "Extracting ../data/MNIST/raw/t10k-images-idx3-ubyte.gz to ../data/MNIST/raw\n",
            "\n",
            "Downloading http://yann.lecun.com/exdb/mnist/t10k-labels-idx1-ubyte.gz\n",
            "Downloading http://yann.lecun.com/exdb/mnist/t10k-labels-idx1-ubyte.gz to ../data/MNIST/raw/t10k-labels-idx1-ubyte.gz\n"
          ]
        },
        {
          "output_type": "display_data",
          "data": {
            "application/vnd.jupyter.widget-view+json": {
              "model_id": "456c0859f35f4d4bb146ea57e35bdc53",
              "version_minor": 0,
              "version_major": 2
            },
            "text/plain": [
              "  0%|          | 0/4542 [00:00<?, ?it/s]"
            ]
          },
          "metadata": {}
        },
        {
          "output_type": "stream",
          "name": "stdout",
          "text": [
            "Extracting ../data/MNIST/raw/t10k-labels-idx1-ubyte.gz to ../data/MNIST/raw\n",
            "\n"
          ]
        }
      ]
    },
    {
      "cell_type": "code",
      "source": [
        "# LeNet Model definition\n",
        "class Net(nn.Module):\n",
        "    def __init__(self):\n",
        "        super(Net, self).__init__()\n",
        "        self.conv1 = nn.Conv2d(1, 10, kernel_size=5)\n",
        "        self.conv2 = nn.Conv2d(10, 20, kernel_size=5)\n",
        "        self.conv2_drop = nn.Dropout2d()\n",
        "        self.fc1 = nn.Linear(320, 50)\n",
        "        self.fc2 = nn.Linear(50, 10)\n",
        "\n",
        "    def forward(self, x):\n",
        "        x = F.relu(F.max_pool2d(self.conv1(x), 2))\n",
        "        x = F.relu(F.max_pool2d(self.conv2_drop(self.conv2(x)), 2))\n",
        "        x = x.view(-1, 320)\n",
        "        x = F.relu(self.fc1(x))\n",
        "        x = F.dropout(x, training=self.training)\n",
        "        x = self.fc2(x)\n",
        "        return F.log_softmax(x, dim=1)"
      ],
      "metadata": {
        "id": "lP_35h300LUH"
      },
      "execution_count": 20,
      "outputs": []
    },
    {
      "cell_type": "code",
      "source": [
        "# Load the pretrained model\n",
        "device = 'cuda' if torch.cuda.is_available() else 'cpu'"
      ],
      "metadata": {
        "id": "WKmO0BgM0sO4"
      },
      "execution_count": 21,
      "outputs": []
    },
    {
      "cell_type": "code",
      "source": [
        "model = Net().to(device)\n",
        "\n",
        "loss_func = nn.CrossEntropyLoss(reduction='sum')\n",
        "optimizer = optim.Adam(model.parameters(), lr=1e-3)"
      ],
      "metadata": {
        "id": "krDeLrAE0XhK"
      },
      "execution_count": 22,
      "outputs": []
    },
    {
      "cell_type": "code",
      "source": [
        "num_epochs = 10\n",
        "\n",
        "model.train()\n",
        "for epoch in range(num_epochs):\n",
        "    total_loss = 0.0\n",
        "    for images, labels  in train_loader:\n",
        "        images = images.to(device)\n",
        "        labels = labels.to(device)\n",
        "\n",
        "        # backprop & gradient step\n",
        "        optimizer.zero_grad()\n",
        "        pred = model(images)\n",
        "        loss = loss_func(pred, labels)\n",
        "        loss.backward()\n",
        "        optimizer.step()\n",
        "        \n",
        "        total_loss += loss.item()\n",
        "    \n",
        "    print(f'At epoch {epoch+1}: Avg loss is {total_loss/len(train_loader.dataset): > 6.4f}')\n",
        "    print()"
      ],
      "metadata": {
        "colab": {
          "base_uri": "https://localhost:8080/"
        },
        "id": "4uZraZQ409Ha",
        "outputId": "e49f5485-38cf-43b2-b929-c98532750a22"
      },
      "execution_count": 23,
      "outputs": [
        {
          "output_type": "stream",
          "name": "stdout",
          "text": [
            "At epoch 1: Avg loss is  0.5020\n",
            "\n",
            "At epoch 2: Avg loss is  0.2604\n",
            "\n",
            "At epoch 3: Avg loss is  0.2140\n",
            "\n",
            "At epoch 4: Avg loss is  0.1859\n",
            "\n",
            "At epoch 5: Avg loss is  0.1671\n",
            "\n",
            "At epoch 6: Avg loss is  0.1588\n",
            "\n",
            "At epoch 7: Avg loss is  0.1538\n",
            "\n",
            "At epoch 8: Avg loss is  0.1451\n",
            "\n",
            "At epoch 9: Avg loss is  0.1355\n",
            "\n",
            "At epoch 10: Avg loss is  0.1320\n",
            "\n"
          ]
        }
      ]
    },
    {
      "cell_type": "code",
      "source": [
        "with torch.no_grad():\n",
        "    model.eval()\n",
        "    total_loss = 0.0\n",
        "    total_pred_true = 0\n",
        "    for images, labels in test_loader:\n",
        "        images = images.to(device)\n",
        "        labels = labels.to(device)\n",
        "\n",
        "        pred = model(images)\n",
        "        loss = loss_func(pred, labels)\n",
        "      \n",
        "        batch_pred_true = (torch.argmax(pred, dim=1) == labels).sum()\n",
        "        total_loss += loss.item()\n",
        "        total_pred_true += batch_pred_true\n",
        "  \n",
        "print(f'Total Avg loss:{total_loss/len(test_loader.dataset): > 6.4f}')\n",
        "print(f'Total Accuracy:{(total_pred_true/len(test_loader.dataset))*100: > 6.2f}%')\n"
      ],
      "metadata": {
        "colab": {
          "base_uri": "https://localhost:8080/"
        },
        "id": "Gp4qFP_h2iPI",
        "outputId": "8dd856be-7c86-4f2e-b669-f74928102799"
      },
      "execution_count": 24,
      "outputs": [
        {
          "output_type": "stream",
          "name": "stdout",
          "text": [
            "Total Avg loss: 0.0379\n",
            "Total Accuracy: 98.78%\n"
          ]
        }
      ]
    },
    {
      "cell_type": "code",
      "source": [
        "torch.save(model.state_dict(), pretrained_model)"
      ],
      "metadata": {
        "id": "zd9OqEWN46tI"
      },
      "execution_count": 27,
      "outputs": []
    },
    {
      "cell_type": "code",
      "source": [
        "# Load the pretrained model\n",
        "model.load_state_dict(torch.load(pretrained_model, map_location='cpu'))\n",
        "\n",
        "# Set the model in evaluation mode. In this case this is for the Dropout layers\n",
        "model.eval()"
      ],
      "metadata": {
        "colab": {
          "base_uri": "https://localhost:8080/"
        },
        "id": "2N2jDqZazF_H",
        "outputId": "7bcfe496-6495-4caa-d296-e536071d1cf0"
      },
      "execution_count": 28,
      "outputs": [
        {
          "output_type": "execute_result",
          "data": {
            "text/plain": [
              "Net(\n",
              "  (conv1): Conv2d(1, 10, kernel_size=(5, 5), stride=(1, 1))\n",
              "  (conv2): Conv2d(10, 20, kernel_size=(5, 5), stride=(1, 1))\n",
              "  (conv2_drop): Dropout2d(p=0.5, inplace=False)\n",
              "  (fc1): Linear(in_features=320, out_features=50, bias=True)\n",
              "  (fc2): Linear(in_features=50, out_features=10, bias=True)\n",
              ")"
            ]
          },
          "metadata": {},
          "execution_count": 28
        }
      ]
    },
    {
      "cell_type": "markdown",
      "source": [
        "## FGSM Attack\n",
        "\n",
        "![image.png](data:image/png;base64,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)"
      ],
      "metadata": {
        "id": "Kecq-9Rp9JeW"
      }
    },
    {
      "cell_type": "code",
      "source": [
        "# FGSM attack code\n",
        "def fgsm_attack(image, epsilon, data_grad):\n",
        "    sign_data_grad = data_grad.sign()\n",
        "    perturbed_image = image + epsilon*sign_data_grad\n",
        "    perturbed_image = torch.clamp(perturbed_image, 0, 1)  # Adding clipping to maintain [0,1] range\n",
        "    return perturbed_image"
      ],
      "metadata": {
        "id": "wYoluf_G0GfD"
      },
      "execution_count": 31,
      "outputs": []
    },
    {
      "cell_type": "markdown",
      "source": [
        "## Testing Function"
      ],
      "metadata": {
        "id": "yEfdqe5Z_2lr"
      }
    },
    {
      "cell_type": "code",
      "source": [
        "def test( model, device, test_loader, epsilon ):\n",
        "    correct = 0\n",
        "    adv_examples = []\n",
        "\n",
        "    for data, target in test_loader:\n",
        "        data, target = data.to(device), target.to(device)\n",
        "        data.requires_grad = True\n",
        "        output = model(data)\n",
        "        init_pred = output.max(1, keepdim=True)[1] # get the index of the max log-probability\n",
        "\n",
        "        # If the initial prediction is wrong, dont bother attacking, just move on\n",
        "        if init_pred.item() != target.item():\n",
        "            continue\n",
        "\n",
        "        loss = F.nll_loss(output, target)\n",
        "\n",
        "        model.zero_grad()\n",
        "        loss.backward()\n",
        "\n",
        "        # Collect datagrad\n",
        "        data_grad = data.grad.data\n",
        "\n",
        "        # Call FGSM Attack\n",
        "        perturbed_data = fgsm_attack(data, epsilon, data_grad)\n",
        "\n",
        "        # Re-classify the perturbed image\n",
        "        output = model(perturbed_data)\n",
        "\n",
        "        # Check for success\n",
        "        final_pred = output.max(1, keepdim=True)[1] # get the index of the max log-probability\n",
        "        if final_pred.item() == target.item():\n",
        "            correct += 1\n",
        "            # Special case for saving 0 epsilon examples\n",
        "            if (epsilon == 0) and (len(adv_examples) < 5):\n",
        "                adv_ex = perturbed_data.squeeze().detach().cpu().numpy()\n",
        "                adv_examples.append( (init_pred.item(), final_pred.item(), adv_ex) )\n",
        "        else:\n",
        "            # Save some adv examples for visualization later\n",
        "            if len(adv_examples) < 5:\n",
        "                adv_ex = perturbed_data.squeeze().detach().cpu().numpy()\n",
        "                adv_examples.append( (init_pred.item(), final_pred.item(), adv_ex) )\n",
        "\n",
        "    # Calculate final accuracy for this epsilon\n",
        "    final_acc = correct/float(len(test_loader))\n",
        "    print(\"Epsilon: {}\\tTest Accuracy = {} / {} = {}\".format(epsilon, correct, len(test_loader), final_acc))\n",
        "\n",
        "    # Return the accuracy and an adversarial example\n",
        "    return final_acc, adv_examples"
      ],
      "metadata": {
        "id": "R597Es2J_px2"
      },
      "execution_count": 35,
      "outputs": []
    },
    {
      "cell_type": "markdown",
      "source": [
        "## Run Attack"
      ],
      "metadata": {
        "id": "ZkqiI8fKBTvA"
      }
    },
    {
      "cell_type": "code",
      "source": [
        "accuracies = []\n",
        "examples = []\n",
        "\n",
        "# Run test for each epsilon\n",
        "for eps in epsilons:\n",
        "    acc, ex = test(model, device, test_loader, eps)\n",
        "    accuracies.append(acc)\n",
        "    examples.append(ex)"
      ],
      "metadata": {
        "colab": {
          "base_uri": "https://localhost:8080/"
        },
        "id": "nRebihiTBVFt",
        "outputId": "32654e36-d64f-4fb2-d234-fa8d6bda0e51"
      },
      "execution_count": 36,
      "outputs": [
        {
          "output_type": "stream",
          "name": "stdout",
          "text": [
            "Epsilon: 0\tTest Accuracy = 9878 / 10000 = 0.9878\n",
            "Epsilon: 0.05\tTest Accuracy = 9411 / 10000 = 0.9411\n",
            "Epsilon: 0.1\tTest Accuracy = 8319 / 10000 = 0.8319\n",
            "Epsilon: 0.15\tTest Accuracy = 6178 / 10000 = 0.6178\n",
            "Epsilon: 0.2\tTest Accuracy = 4002 / 10000 = 0.4002\n",
            "Epsilon: 0.25\tTest Accuracy = 2476 / 10000 = 0.2476\n",
            "Epsilon: 0.3\tTest Accuracy = 1549 / 10000 = 0.1549\n"
          ]
        }
      ]
    },
    {
      "cell_type": "code",
      "source": [
        "plt.figure(figsize=(5,5))\n",
        "plt.plot(epsilons, accuracies, \"*-\")\n",
        "plt.yticks(np.arange(0, 1.1, step=0.1))\n",
        "plt.xticks(np.arange(0, .35, step=0.05))\n",
        "plt.title(\"Accuracy vs Epsilon\")\n",
        "plt.xlabel(\"Epsilon\")\n",
        "plt.ylabel(\"Accuracy\")\n",
        "plt.show()"
      ],
      "metadata": {
        "colab": {
          "base_uri": "https://localhost:8080/",
          "height": 350
        },
        "id": "rhAqUUJXC6-1",
        "outputId": "e4ecff37-3236-4898-a036-bef2525d85bb"
      },
      "execution_count": 37,
      "outputs": [
        {
          "output_type": "display_data",
          "data": {
            "image/png": "[encoded data removed]",
            "text/plain": [
              "<Figure size 360x360 with 1 Axes>"
            ]
          },
          "metadata": {
            "needs_background": "light"
          }
        }
      ]
    },
    {
      "cell_type": "code",
      "source": [
        "# Plot several examples of adversarial samples at each epsilon\n",
        "cnt = 0\n",
        "plt.figure(figsize=(8,10))\n",
        "for i in range(len(epsilons)):\n",
        "    for j in range(len(examples[i])):\n",
        "        cnt += 1\n",
        "        plt.subplot(len(epsilons),len(examples[0]),cnt)\n",
        "        plt.xticks([], [])\n",
        "        plt.yticks([], [])\n",
        "        if j == 0:\n",
        "            plt.ylabel(\"Eps: {}\".format(epsilons[i]), fontsize=14)\n",
        "        orig,adv,ex = examples[i][j]\n",
        "        plt.title(\"{} -> {}\".format(orig, adv))\n",
        "        plt.imshow(ex, cmap=\"gray\")\n",
        "plt.tight_layout()\n",
        "plt.show()"
      ],
      "metadata": {
        "colab": {
          "base_uri": "https://localhost:8080/",
          "height": 729
        },
        "id": "34NFAxwrC7cF",
        "outputId": "0268bcda-c44c-40c1-bf64-a25b981e1cc5"
      },
      "execution_count": 38,
      "outputs": [
        {
          "output_type": "display_data",
          "data": {
            "image/png": "[encoded data removed]",
            "text/plain": [
              "<Figure size 576x720 with 35 Axes>"
            ]
          },
          "metadata": {}
        }
      ]
    }
  ]
}